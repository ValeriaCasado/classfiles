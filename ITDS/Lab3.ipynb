{
 "cells": [
  {
   "cell_type": "code",
   "execution_count": 1,
   "metadata": {},
   "outputs": [],
   "source": [
    "import matplotlib.pyplot as plt\n",
    "import numpy as np\n",
    "import scipy.stats as stats\n",
    "import csv"
   ]
  },
  {
   "cell_type": "markdown",
   "metadata": {},
   "source": [
    "# Exercise 1\n",
    "\n",
    "Read data into dictionary"
   ]
  },
  {
   "cell_type": "code",
   "execution_count": 4,
   "metadata": {},
   "outputs": [],
   "source": [
    "data = {\"population\":[], \"density\":[], \"hours\":[]}\n",
    "with open(\"lab_data/corr.csv\", 'r') as infile:\n",
    "\tcsvreader = csv.reader(infile, delimiter=',')\n",
    "\tfor row in csvreader:\n",
    "\t\tdata[\"population\"].append(float(row[0]))\n",
    "\t\tdata[\"density\"].append(float(row[1]))\n",
    "\t\tdata[\"hours\"].append(float(row[2]))"
   ]
  },
  {
   "cell_type": "code",
   "execution_count": 5,
   "metadata": {},
   "outputs": [
    {
     "data": {
      "text/plain": [
       "(0.09351151825775889, 2.4153516377381717e-68)"
      ]
     },
     "execution_count": 5,
     "metadata": {},
     "output_type": "execute_result"
    }
   ],
   "source": [
    "stats.pearsonr(data[\"population\"], data[\"density\"])"
   ]
  },
  {
   "cell_type": "markdown",
   "metadata": {},
   "source": [
    "# Exercise 2"
   ]
  },
  {
   "cell_type": "code",
   "execution_count": 10,
   "metadata": {},
   "outputs": [
    {
     "name": "stdout",
     "output_type": "stream",
     "text": [
      "(0.9470910552717153, 3.215512739766511e-05)\n"
     ]
    },
    {
     "data": {
      "text/plain": [
       "<matplotlib.collections.PathCollection at 0x1db55658790>"
      ]
     },
     "execution_count": 10,
     "metadata": {},
     "output_type": "execute_result"
    },
    {
     "data": {
      "image/png": "[encoded data removed]",
      "text/plain": [
       "<Figure size 432x288 with 1 Axes>"
      ]
     },
     "metadata": {
      "needs_background": "light"
     },
     "output_type": "display_data"
    }
   ],
   "source": [
    "X = [29.8,30.1,30.5, 30.6,31.3,31.7,32.6, 33.1,32.7,32.8 ]\n",
    "Y = [327,456,509, 497,596,573,661,741,809,717]\n",
    "print(stats.pearsonr(X,Y))\n",
    "plt.scatter(X,Y)\n"
   ]
  },
  {
   "cell_type": "markdown",
   "metadata": {},
   "source": [
    "# Exercise 4\n",
    "Google trends"
   ]
  },
  {
   "cell_type": "code",
   "execution_count": 22,
   "metadata": {},
   "outputs": [],
   "source": [
    "data = {\"Week\":[], \"Swimming\":[], \"Beach\":[]}\n",
    "with open(\"lab_data\\swim_search_data.csv\", 'r') as infile:\n",
    "    csvreader = csv.reader(infile, delimiter=',')\n",
    "    for row in csvreader:\n",
    "        try:\n",
    "            data[\"Week\"].append(row[0])\n",
    "            data[\"Swimming\"].append(float(row[1]))\n",
    "            data[\"Beach\"].append(float(row[2]))\n",
    "        except:\n",
    "            pass"
   ]
  },
  {
   "cell_type": "code",
   "execution_count": 28,
   "metadata": {},
   "outputs": [
    {
     "data": {
      "image/png": "[encoded data removed]",
      "text/plain": [
       "<Figure size 432x288 with 1 Axes>"
      ]
     },
     "metadata": {
      "needs_background": "light"
     },
     "output_type": "display_data"
    }
   ],
   "source": [
    "r = stats.pearsonr(data[\"Swimming\"], data[\"Beach\"])\n",
    "plt.scatter(data[\"Swimming\"], data[\"Beach\"], label=\"r = {:.3f}\".format(r[0]))\n",
    "plt.legend()\n",
    "plt.show()\n",
    "plt.close()"
   ]
  },
  {
   "cell_type": "markdown",
   "metadata": {},
   "source": [
    "# Exercise 6\n",
    "\n",
    "Often data which is related, but not linearly related, can be transformed to be linearly related. A very common situation is when\n",
    "Y is a power of X.\n",
    "y = Ax^b\n",
    "\n",
    "Exercise 6: Plot log y against log x. Compute the correlation\n",
    "coefficient."
   ]
  },
  {
   "cell_type": "markdown",
   "metadata": {},
   "source": [
    "Makes the plot linear\n",
    "\n",
    "y = A x**b\n",
    "\n",
    "\n",
    "log(y) = log( A x**b )\n",
    "\n",
    "log(y) = log(A) + log(x**b)\n",
    "\n",
    "log(y) = log(A) = b log(x)"
   ]
  },
  {
   "cell_type": "code",
   "execution_count": 30,
   "metadata": {},
   "outputs": [
    {
     "data": {
      "text/plain": [
       "<matplotlib.collections.PathCollection at 0x1db5307ed30>"
      ]
     },
     "execution_count": 30,
     "metadata": {},
     "output_type": "execute_result"
    },
    {
     "data": {
      "image/png": "[encoded data removed]",
      "text/plain": [
       "<Figure size 432x288 with 1 Axes>"
      ]
     },
     "metadata": {
      "needs_background": "light"
     },
     "output_type": "display_data"
    }
   ],
   "source": [
    "x = np.random.randint(0,1000, (100,))\n",
    "y = [2*i**(1/2) for i in x]\n",
    "\n",
    "plt.scatter(x,y)"
   ]
  },
  {
   "cell_type": "code",
   "execution_count": 35,
   "metadata": {},
   "outputs": [
    {
     "data": {
      "text/plain": [
       "<matplotlib.collections.PathCollection at 0x1db52f58e20>"
      ]
     },
     "execution_count": 35,
     "metadata": {},
     "output_type": "execute_result"
    },
    {
     "data": {
      "image/png": "[encoded data removed]",
      "text/plain": [
       "<Figure size 432x288 with 1 Axes>"
      ]
     },
     "metadata": {
      "needs_background": "light"
     },
     "output_type": "display_data"
    }
   ],
   "source": [
    "import math\n",
    "x_log = [math.log(i) for i in x]\n",
    "y_log = [math.log(i) for i in y]\n",
    "\n",
    "plt.scatter(x_log,y_log)"
   ]
  },
  {
   "cell_type": "code",
   "execution_count": 36,
   "metadata": {},
   "outputs": [
    {
     "data": {
      "text/plain": [
       "(0.9999999999999996, 0.0)"
      ]
     },
     "execution_count": 36,
     "metadata": {},
     "output_type": "execute_result"
    }
   ],
   "source": [
    "stats.pearsonr(x_log, y_log)"
   ]
  },
  {
   "cell_type": "markdown",
   "metadata": {},
   "source": [
    "\n"
   ]
  },
  {
   "cell_type": "code",
   "execution_count": null,
   "metadata": {},
   "outputs": [],
   "source": []
  }
 ],
 "metadata": {
  "interpreter": {
   "hash": "826e7bba85b99c11a3c19949a4a2d266b2f1747132f6a3237d81dfdab13a7bb0"
  },
  "kernelspec": {
   "display_name": "Python 3.9.7 64-bit ('FODS': conda)",
   "name": "python3"
  },
  "language_info": {
   "codemirror_mode": {
    "name": "ipython",
    "version": 3
   },
   "file_extension": ".py",
   "mimetype": "text/x-python",
   "name": "python",
   "nbconvert_exporter": "python",
   "pygments_lexer": "ipython3",
   "version": "3.9.7"
  },
  "orig_nbformat": 4
 },
 "nbformat": 4,
 "nbformat_minor": 2
}
