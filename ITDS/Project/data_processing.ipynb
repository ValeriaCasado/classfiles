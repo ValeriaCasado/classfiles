{
 "cells": [
  {
   "cell_type": "code",
   "execution_count": 2,
   "metadata": {},
   "outputs": [],
   "source": [
    "import zipfile\n",
    "import re\n",
    "from io import BytesIO\n",
    "import json"
   ]
  },
  {
   "cell_type": "code",
   "execution_count": 3,
   "metadata": {},
   "outputs": [],
   "source": [
    "masterzip = \"masterzip.zip\""
   ]
  },
  {
   "cell_type": "code",
   "execution_count": 11,
   "metadata": {},
   "outputs": [
    {
     "name": "stdout",
     "output_type": "stream",
     "text": [
      "b'{\"name\":\"John\", \"age\":30, \"car\":null}'\n"
     ]
    }
   ],
   "source": [
    "with zipfile.ZipFile(masterzip, \"r\") as zfile:\n",
    "    for subzip in zfile.namelist():\n",
    "        if re.search(r'\\.zip$', subzip) is not None:\n",
    "            # We have a zip within a zip\n",
    "            zfiledata = BytesIO(zfile.read(subzip))\n",
    "            with zipfile.ZipFile(zfiledata) as jfile:\n",
    "                #content = jfile.open(jfile.namelist()[0])\n",
    "                with jfile.open(jfile.namelist()[0]) as content:\n",
    "                    for line in content:\n",
    "                        print(line)"
   ]
  },
  {
   "cell_type": "code",
   "execution_count": 4,
   "metadata": {},
   "outputs": [
    {
     "name": "stdout",
     "output_type": "stream",
     "text": [
      "--\n"
     ]
    },
    {
     "data": {
      "text/plain": [
       "{'name': 'John',\n",
       " 'age': 30,\n",
       " 'car': None,\n",
       " 'brother': {'name': 'John', 'age': 30, 'car': None}}"
      ]
     },
     "execution_count": 4,
     "metadata": {},
     "output_type": "execute_result"
    }
   ],
   "source": [
    "import sys\n",
    "\n",
    "with open('sample.json') as f:\n",
    "    print(\"--\")\n",
    "    data = json.load(f)\n",
    "\n",
    "data"
   ]
  },
  {
   "cell_type": "code",
   "execution_count": null,
   "metadata": {},
   "outputs": [],
   "source": []
  }
 ],
 "metadata": {
  "interpreter": {
   "hash": "60cf5e3586cfdf4ab0365dd25c5e543b3d161bdc078916f92d6d9a6fd803268f"
  },
  "kernelspec": {
   "display_name": "Python 3.6.13 64-bit ('ITDSv1': conda)",
   "name": "python3"
  },
  "language_info": {
   "codemirror_mode": {
    "name": "ipython",
    "version": 3
   },
   "file_extension": ".py",
   "mimetype": "text/x-python",
   "name": "python",
   "nbconvert_exporter": "python",
   "pygments_lexer": "ipython3",
   "version": "3.6.13"
  },
  "orig_nbformat": 4
 },
 "nbformat": 4,
 "nbformat_minor": 2
}
