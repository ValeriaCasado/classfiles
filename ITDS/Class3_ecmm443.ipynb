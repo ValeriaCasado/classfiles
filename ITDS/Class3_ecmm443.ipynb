{
 "cells": [
  {
   "cell_type": "code",
   "execution_count": 1,
   "source": [
    "import numpy as np"
   ],
   "outputs": [],
   "metadata": {}
  },
  {
   "cell_type": "code",
   "execution_count": 12,
   "source": [
    "def median(data):\n",
    "    sorted = np.sort(list(set(data)), axis=0)\n",
    "    if len(sorted)%2 == 0:\n",
    "        upper = sorted[round(len(sorted)/2)]\n",
    "        lower = sorted[round(len(sorted)/2) - 1]\n",
    "        return (upper + lower) / 2\n",
    "    return sorted[round(len(sorted)/2)]\n",
    "\n",
    "median([1,2,2,2,2,3,4,5,6])"
   ],
   "outputs": [
    {
     "output_type": "execute_result",
     "data": {
      "text/plain": [
       "3.5"
      ]
     },
     "metadata": {},
     "execution_count": 12
    }
   ],
   "metadata": {}
  },
  {
   "cell_type": "code",
   "execution_count": 27,
   "source": [
    "def mode(data):\n",
    "    max_val = data[np.argmax(data)]\n",
    "    counter_array = np.zeros(max_val+1, dtype=int)\n",
    "    for point in data:\n",
    "        counter_array[point] += 1\n",
    "    index_of_freq = np.argmax(counter_array)\n",
    "    return index_of_freq\n",
    "\n",
    "\n",
    "mode([1,1,1,2,3,4,5,5,5,5,5,5,6,7,7,7,6,5])"
   ],
   "outputs": [
    {
     "output_type": "execute_result",
     "data": {
      "text/plain": [
       "5"
      ]
     },
     "metadata": {},
     "execution_count": 27
    }
   ],
   "metadata": {}
  },
  {
   "cell_type": "markdown",
   "source": [
    "or ... \n",
    "\n",
    "`np.mean`\n",
    "\n",
    "`np.mode`\n",
    "\n",
    "`np.mediam`"
   ],
   "metadata": {}
  },
  {
   "cell_type": "code",
   "execution_count": 29,
   "source": [
    "import matplotlib.pyplot as plt\n",
    "\n",
    "data = np.random.uniform(0,1000, 1000)\n",
    "freq, bins, patches = plt.hist(data, bins=50, alpha=0.5)"
   ],
   "outputs": [
    {
     "output_type": "display_data",
     "data": {
      "image/png": "[encoded data removed]",
      "text/plain": [
       "<Figure size 432x288 with 1 Axes>"
      ]
     },
     "metadata": {
      "needs_background": "light"
     }
    }
   ],
   "metadata": {}
  },
  {
   "cell_type": "code",
   "execution_count": 33,
   "source": [
    "# freq has one more value in the list than bins does\n",
    "len(freq) == len(bins) -1"
   ],
   "outputs": [
    {
     "output_type": "execute_result",
     "data": {
      "text/plain": [
       "True"
      ]
     },
     "metadata": {},
     "execution_count": 33
    }
   ],
   "metadata": {}
  },
  {
   "cell_type": "code",
   "execution_count": 35,
   "source": [
    "# It's the distance from each bin to the mean. Why is this relevant?\n",
    "# Why is the correlation the same between den, pop and pop, den\n",
    "\n",
    "mean = np.mean(data)\n",
    "idx = np.argmin(np.abs(bins - mean)) # Remember it returns the index and not the value\n",
    "\n",
    "# idx is the index of the bin edge that is closest to the mean\n",
    "# Then we can get the corresponding y value and do whatever graph he was showing in class\n",
    "# Two vertical lines I assume with the + and - idx on either side\n"
   ],
   "outputs": [],
   "metadata": {}
  },
  {
   "cell_type": "markdown",
   "source": [
    "For very big unzipped files let's not use pandas.read_csv, that opens the whole package. Using the other way (in cw outline) you stream the data instead. Iterates over the rows without wasting memory. \n",
    "Pandas also doesn't open particular data types."
   ],
   "metadata": {}
  },
  {
   "cell_type": "code",
   "execution_count": null,
   "source": [],
   "outputs": [],
   "metadata": {}
  }
 ],
 "metadata": {
  "orig_nbformat": 4,
  "language_info": {
   "name": "python",
   "version": "3.6.13",
   "mimetype": "text/x-python",
   "codemirror_mode": {
    "name": "ipython",
    "version": 3
   },
   "pygments_lexer": "ipython3",
   "nbconvert_exporter": "python",
   "file_extension": ".py"
  },
  "kernelspec": {
   "name": "python3",
   "display_name": "Python 3.6.13 64-bit ('ITDSv1': conda)"
  },
  "interpreter": {
   "hash": "60cf5e3586cfdf4ab0365dd25c5e543b3d161bdc078916f92d6d9a6fd803268f"
  }
 },
 "nbformat": 4,
 "nbformat_minor": 2
}