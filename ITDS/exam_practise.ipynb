{
 "cells": [
  {
   "cell_type": "code",
   "execution_count": 73,
   "metadata": {},
   "outputs": [],
   "source": [
    "import numpy as np\n",
    "import matplotlib.pyplot as plt\n",
    "from scipy import stats\n"
   ]
  },
  {
   "cell_type": "code",
   "execution_count": 76,
   "metadata": {},
   "outputs": [],
   "source": [
    "mu, sigma = 0, 0.1 # mean and standard deviation\n",
    "s = [round(i*100) for i in np.random.normal(mu, sigma, 100)]"
   ]
  },
  {
   "cell_type": "code",
   "execution_count": 77,
   "metadata": {},
   "outputs": [
    {
     "data": {
      "image/png": "[encoded data removed]",
      "text/plain": [
       "<Figure size 432x288 with 1 Axes>"
      ]
     },
     "metadata": {
      "needs_background": "light"
     },
     "output_type": "display_data"
    }
   ],
   "source": [
    "count, bins, _ = plt.hist(s, 30, density=True)\n",
    "plt.show()"
   ]
  },
  {
   "cell_type": "code",
   "execution_count": 78,
   "metadata": {},
   "outputs": [
    {
     "name": "stdout",
     "output_type": "stream",
     "text": [
      "0.94 0.94\n"
     ]
    }
   ],
   "source": [
    "def getmean(values):\n",
    "    total_v = 0\n",
    "    for value in values:\n",
    "        total_v += value\n",
    "    return total_v/len(values)\n",
    "\n",
    "mean = getmean(s)\n",
    "print(np.mean(s), mean)"
   ]
  },
  {
   "cell_type": "code",
   "execution_count": 79,
   "metadata": {},
   "outputs": [
    {
     "name": "stdout",
     "output_type": "stream",
     "text": [
      "13 ModeResult(mode=array([13]), count=array([7]))\n"
     ]
    }
   ],
   "source": [
    "def getmode(values):\n",
    "    d = dict.fromkeys(set(values), 0)\n",
    "    for value in values:\n",
    "        d[value] += 1\n",
    "    return max(d, key=d.get)\n",
    "    \n",
    "\n",
    "mode = getmode(s)\n",
    "print(mode, stats.mode(s))"
   ]
  },
  {
   "cell_type": "code",
   "execution_count": 80,
   "metadata": {},
   "outputs": [
    {
     "data": {
      "text/plain": [
       "2"
      ]
     },
     "execution_count": 80,
     "metadata": {},
     "output_type": "execute_result"
    }
   ],
   "source": [
    "def getmedian(values):\n",
    "    lst = sorted(list(set(values)))\n",
    "    if  len(lst) % 2 == 0:\n",
    "        return lst[len(lst)//2]\n",
    "    else:\n",
    "        return (lst[round(len(lst)//2)] + lst[len(lst)//2-1])/2\n",
    "\n",
    "getmedian(s)"
   ]
  },
  {
   "cell_type": "code",
   "execution_count": 81,
   "metadata": {},
   "outputs": [
    {
     "name": "stdout",
     "output_type": "stream",
     "text": [
      "133.37010101010108 133.37010101010102\n"
     ]
    }
   ],
   "source": [
    "from statistics import variance\n",
    "\n",
    "def getvariance(values): # Or standard deviation\n",
    "    mean = getmean(values)\n",
    "    N = len(values)\n",
    "    s = 0\n",
    "    for value in values:\n",
    "        s += (value-mean)**2\n",
    "    return s/(N-1)\n",
    "    \n",
    "print(getvariance(s), variance(s))"
   ]
  },
  {
   "cell_type": "code",
   "execution_count": 82,
   "metadata": {},
   "outputs": [],
   "source": [
    "def getmeandeviation(values):\n",
    "    mean = getmean(values)\n",
    "    N = len(values)\n",
    "    s = 0\n",
    "    for value in values:\n",
    "        s += abs(value-mean)\n",
    "    return s/(N)"
   ]
  },
  {
   "cell_type": "code",
   "execution_count": 83,
   "metadata": {},
   "outputs": [
    {
     "data": {
      "text/plain": [
       "0.08819857942789454"
      ]
     },
     "execution_count": 83,
     "metadata": {},
     "output_type": "execute_result"
    }
   ],
   "source": [
    "def getasymmetry(values):\n",
    "    mean = getmean(values)\n",
    "    N = len(values)\n",
    "    numerador = 0\n",
    "    for value in values:\n",
    "        numerador += (value - mean)**3\n",
    "    numerador = numerador / N\n",
    "    return numerador / getvariance(values)**(3/2)\n",
    "\n",
    "getasymmetry(s)"
   ]
  },
  {
   "cell_type": "code",
   "execution_count": null,
   "metadata": {},
   "outputs": [],
   "source": []
  }
 ],
 "metadata": {
  "interpreter": {
   "hash": "826e7bba85b99c11a3c19949a4a2d266b2f1747132f6a3237d81dfdab13a7bb0"
  },
  "kernelspec": {
   "display_name": "Python 3.9.7 64-bit ('FODS': conda)",
   "name": "python3"
  },
  "language_info": {
   "codemirror_mode": {
    "name": "ipython",
    "version": 3
   },
   "file_extension": ".py",
   "mimetype": "text/x-python",
   "name": "python",
   "nbconvert_exporter": "python",
   "pygments_lexer": "ipython3",
   "version": "3.9.7"
  },
  "orig_nbformat": 4
 },
 "nbformat": 4,
 "nbformat_minor": 2
}
