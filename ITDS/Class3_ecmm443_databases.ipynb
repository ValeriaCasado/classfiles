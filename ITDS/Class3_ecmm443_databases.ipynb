{
 "cells": [
  {
   "cell_type": "code",
   "execution_count": 13,
   "metadata": {},
   "outputs": [],
   "source": [
    "import sqlite3\n",
    "import csv\n",
    "import pandas as pd\n",
    "import numpy as np"
   ]
  },
  {
   "cell_type": "markdown",
   "metadata": {},
   "source": [
    "# EXERCISE 1"
   ]
  },
  {
   "cell_type": "code",
   "execution_count": 2,
   "metadata": {},
   "outputs": [],
   "source": [
    "csv_path = 'lab_data/SE4ALLData.csv'"
   ]
  },
  {
   "cell_type": "code",
   "execution_count": 81,
   "metadata": {},
   "outputs": [],
   "source": [
    "conn = sqlite3.connect(\"SE4ALL.db\")\n",
    "c = conn.cursor()\n",
    "c.execute('''CREATE TABLE energy (CountryName TEXT\n",
    "NOCASE, IndicatorCode TEXT NOCASE, Year INTEGER,\n",
    "Value REAL)''')\n",
    "conn.commit()"
   ]
  },
  {
   "cell_type": "code",
   "execution_count": 82,
   "metadata": {},
   "outputs": [],
   "source": [
    "def float_or_none(var):\n",
    "    return var if var!=\"\" else None"
   ]
  },
  {
   "cell_type": "code",
   "execution_count": 83,
   "metadata": {},
   "outputs": [],
   "source": [
    "with open(csv_path, 'r', encoding='UTF-8') as csvfile:\n",
    "    reader = csv.reader(csvfile, delimiter=',', quotechar='\"')\n",
    "    headers = next(reader)\n",
    "    headerid = {}\n",
    "    for i,h in enumerate(headers):\n",
    "        headerid[h] = i\n",
    "\n",
    "    for row in reader: \n",
    "        for year in range(1990,2017):\n",
    "            c.execute(\"INSERT INTO energy VALUES (:CountryName, :IndicatorCode, :Year, :Value)\", {\n",
    "            'CountryName': row[0],\n",
    "            'IndicatorCode': row[3],\n",
    "            'Year': year,\n",
    "            'Value': float_or_none(row[headerid[str(year)]]\n",
    "            )\n",
    "        })\n",
    "    \n",
    "conn.commit()"
   ]
  },
  {
   "cell_type": "markdown",
   "metadata": {},
   "source": [
    "# QUESTION 2"
   ]
  },
  {
   "cell_type": "markdown",
   "metadata": {},
   "source": [
    "Write a SQL query to find the countries with the highest renewable electricity share of total electricity output in 2015.\n",
    "Do these numbers seem reliable?"
   ]
  },
  {
   "cell_type": "code",
   "execution_count": 16,
   "metadata": {},
   "outputs": [],
   "source": [
    "con = sqlite3.connect('SE4ALL.db')\n",
    "cur = con.cursor()\n"
   ]
  },
  {
   "cell_type": "code",
   "execution_count": 17,
   "metadata": {},
   "outputs": [],
   "source": [
    "query = \"SELECT COUNTRYNAME, VALUE FROM ENERGY where YEAR = 2015 AND Value IS NOT NULL AND INDICATORCODE = '1.1_TOTAL.FINAL.ENERGY.CONSUM' \""
   ]
  },
  {
   "cell_type": "code",
   "execution_count": 18,
   "metadata": {},
   "outputs": [],
   "source": [
    "data = {}\n",
    "for row in cur.execute(query):\n",
    "    try:\n",
    "        data[row[0]] += row[1]\n",
    "    except:\n",
    "        data[row[0]] = row[1]"
   ]
  },
  {
   "cell_type": "code",
   "execution_count": 19,
   "metadata": {},
   "outputs": [
    {
     "data": {
      "text/plain": [
       "'China'"
      ]
     },
     "execution_count": 19,
     "metadata": {},
     "output_type": "execute_result"
    }
   ],
   "source": [
    "s = pd.Series(data)\n",
    "n = s.argmax()\n",
    "s.index[n]"
   ]
  },
  {
   "cell_type": "markdown",
   "metadata": {},
   "source": [
    "# QUESTION 3"
   ]
  },
  {
   "cell_type": "markdown",
   "metadata": {},
   "source": [
    "Plot a time series of the indicator 4.1_SHARE.RE.IN.ELECTRICITY\n",
    "for a number of countries of your choice"
   ]
  },
  {
   "cell_type": "code",
   "execution_count": 5,
   "metadata": {},
   "outputs": [],
   "source": [
    "con = sqlite3.connect('SE4ALL.db')\n",
    "cur = con.cursor()"
   ]
  },
  {
   "cell_type": "code",
   "execution_count": 25,
   "metadata": {},
   "outputs": [
    {
     "data": {
      "text/html": [
       "<div>\n",
       "<style scoped>\n",
       "    .dataframe tbody tr th:only-of-type {\n",
       "        vertical-align: middle;\n",
       "    }\n",
       "\n",
       "    .dataframe tbody tr th {\n",
       "        vertical-align: top;\n",
       "    }\n",
       "\n",
       "    .dataframe thead th {\n",
       "        text-align: right;\n",
       "    }\n",
       "</style>\n",
       "<table border=\"1\" class=\"dataframe\">\n",
       "  <thead>\n",
       "    <tr style=\"text-align: right;\">\n",
       "      <th></th>\n",
       "      <th>BES Islands</th>\n",
       "      <th>Nauru</th>\n",
       "      <th>Niue</th>\n",
       "      <th>Wallis and Futuna</th>\n",
       "      <th>Afghanistan</th>\n",
       "      <th>Albania</th>\n",
       "      <th>Algeria</th>\n",
       "      <th>American Samoa</th>\n",
       "      <th>Andorra</th>\n",
       "      <th>Angola</th>\n",
       "      <th>...</th>\n",
       "      <th>Uzbekistan</th>\n",
       "      <th>Vanuatu</th>\n",
       "      <th>Venezuela, RB</th>\n",
       "      <th>Vietnam</th>\n",
       "      <th>Virgin Islands (U.S.)</th>\n",
       "      <th>West Bank and Gaza</th>\n",
       "      <th>Western Sahara</th>\n",
       "      <th>Yemen, Rep.</th>\n",
       "      <th>Zambia</th>\n",
       "      <th>Zimbabwe</th>\n",
       "    </tr>\n",
       "  </thead>\n",
       "  <tbody>\n",
       "    <tr>\n",
       "      <th>1990</th>\n",
       "      <td>NaN</td>\n",
       "      <td>NaN</td>\n",
       "      <td>NaN</td>\n",
       "      <td>NaN</td>\n",
       "      <td>NaN</td>\n",
       "      <td>NaN</td>\n",
       "      <td>NaN</td>\n",
       "      <td>NaN</td>\n",
       "      <td>NaN</td>\n",
       "      <td>NaN</td>\n",
       "      <td>...</td>\n",
       "      <td>NaN</td>\n",
       "      <td>NaN</td>\n",
       "      <td>NaN</td>\n",
       "      <td>NaN</td>\n",
       "      <td>NaN</td>\n",
       "      <td>NaN</td>\n",
       "      <td>NaN</td>\n",
       "      <td>NaN</td>\n",
       "      <td>NaN</td>\n",
       "      <td>NaN</td>\n",
       "    </tr>\n",
       "    <tr>\n",
       "      <th>1991</th>\n",
       "      <td>NaN</td>\n",
       "      <td>NaN</td>\n",
       "      <td>NaN</td>\n",
       "      <td>NaN</td>\n",
       "      <td>NaN</td>\n",
       "      <td>NaN</td>\n",
       "      <td>NaN</td>\n",
       "      <td>NaN</td>\n",
       "      <td>NaN</td>\n",
       "      <td>NaN</td>\n",
       "      <td>...</td>\n",
       "      <td>NaN</td>\n",
       "      <td>NaN</td>\n",
       "      <td>NaN</td>\n",
       "      <td>NaN</td>\n",
       "      <td>NaN</td>\n",
       "      <td>NaN</td>\n",
       "      <td>NaN</td>\n",
       "      <td>NaN</td>\n",
       "      <td>NaN</td>\n",
       "      <td>NaN</td>\n",
       "    </tr>\n",
       "    <tr>\n",
       "      <th>1992</th>\n",
       "      <td>NaN</td>\n",
       "      <td>NaN</td>\n",
       "      <td>NaN</td>\n",
       "      <td>NaN</td>\n",
       "      <td>NaN</td>\n",
       "      <td>NaN</td>\n",
       "      <td>NaN</td>\n",
       "      <td>NaN</td>\n",
       "      <td>NaN</td>\n",
       "      <td>NaN</td>\n",
       "      <td>...</td>\n",
       "      <td>NaN</td>\n",
       "      <td>NaN</td>\n",
       "      <td>NaN</td>\n",
       "      <td>NaN</td>\n",
       "      <td>NaN</td>\n",
       "      <td>NaN</td>\n",
       "      <td>NaN</td>\n",
       "      <td>NaN</td>\n",
       "      <td>NaN</td>\n",
       "      <td>NaN</td>\n",
       "    </tr>\n",
       "    <tr>\n",
       "      <th>1993</th>\n",
       "      <td>NaN</td>\n",
       "      <td>NaN</td>\n",
       "      <td>NaN</td>\n",
       "      <td>NaN</td>\n",
       "      <td>NaN</td>\n",
       "      <td>NaN</td>\n",
       "      <td>NaN</td>\n",
       "      <td>NaN</td>\n",
       "      <td>NaN</td>\n",
       "      <td>NaN</td>\n",
       "      <td>...</td>\n",
       "      <td>NaN</td>\n",
       "      <td>NaN</td>\n",
       "      <td>NaN</td>\n",
       "      <td>NaN</td>\n",
       "      <td>NaN</td>\n",
       "      <td>NaN</td>\n",
       "      <td>NaN</td>\n",
       "      <td>NaN</td>\n",
       "      <td>NaN</td>\n",
       "      <td>NaN</td>\n",
       "    </tr>\n",
       "    <tr>\n",
       "      <th>1994</th>\n",
       "      <td>NaN</td>\n",
       "      <td>NaN</td>\n",
       "      <td>NaN</td>\n",
       "      <td>NaN</td>\n",
       "      <td>NaN</td>\n",
       "      <td>NaN</td>\n",
       "      <td>NaN</td>\n",
       "      <td>NaN</td>\n",
       "      <td>NaN</td>\n",
       "      <td>NaN</td>\n",
       "      <td>...</td>\n",
       "      <td>NaN</td>\n",
       "      <td>NaN</td>\n",
       "      <td>NaN</td>\n",
       "      <td>NaN</td>\n",
       "      <td>NaN</td>\n",
       "      <td>NaN</td>\n",
       "      <td>NaN</td>\n",
       "      <td>NaN</td>\n",
       "      <td>NaN</td>\n",
       "      <td>NaN</td>\n",
       "    </tr>\n",
       "  </tbody>\n",
       "</table>\n",
       "<p>5 rows × 233 columns</p>\n",
       "</div>"
      ],
      "text/plain": [
       "     BES Islands Nauru Niue Wallis and Futuna Afghanistan Albania Algeria  \\\n",
       "1990         NaN   NaN  NaN               NaN         NaN     NaN     NaN   \n",
       "1991         NaN   NaN  NaN               NaN         NaN     NaN     NaN   \n",
       "1992         NaN   NaN  NaN               NaN         NaN     NaN     NaN   \n",
       "1993         NaN   NaN  NaN               NaN         NaN     NaN     NaN   \n",
       "1994         NaN   NaN  NaN               NaN         NaN     NaN     NaN   \n",
       "\n",
       "     American Samoa Andorra Angola  ... Uzbekistan Vanuatu Venezuela, RB  \\\n",
       "1990            NaN     NaN    NaN  ...        NaN     NaN           NaN   \n",
       "1991            NaN     NaN    NaN  ...        NaN     NaN           NaN   \n",
       "1992            NaN     NaN    NaN  ...        NaN     NaN           NaN   \n",
       "1993            NaN     NaN    NaN  ...        NaN     NaN           NaN   \n",
       "1994            NaN     NaN    NaN  ...        NaN     NaN           NaN   \n",
       "\n",
       "     Vietnam Virgin Islands (U.S.) West Bank and Gaza Western Sahara  \\\n",
       "1990     NaN                   NaN                NaN            NaN   \n",
       "1991     NaN                   NaN                NaN            NaN   \n",
       "1992     NaN                   NaN                NaN            NaN   \n",
       "1993     NaN                   NaN                NaN            NaN   \n",
       "1994     NaN                   NaN                NaN            NaN   \n",
       "\n",
       "     Yemen, Rep. Zambia Zimbabwe  \n",
       "1990         NaN    NaN      NaN  \n",
       "1991         NaN    NaN      NaN  \n",
       "1992         NaN    NaN      NaN  \n",
       "1993         NaN    NaN      NaN  \n",
       "1994         NaN    NaN      NaN  \n",
       "\n",
       "[5 rows x 233 columns]"
      ]
     },
     "execution_count": 25,
     "metadata": {},
     "output_type": "execute_result"
    }
   ],
   "source": [
    "df = pd.DataFrame(index=np.arange(1990,2017), columns=data.keys())\n",
    "df.head()"
   ]
  },
  {
   "cell_type": "code",
   "execution_count": 27,
   "metadata": {},
   "outputs": [
    {
     "data": {
      "text/plain": [
       "nan"
      ]
     },
     "execution_count": 27,
     "metadata": {},
     "output_type": "execute_result"
    }
   ],
   "source": [
    "df['Nauru'][1990]"
   ]
  },
  {
   "cell_type": "code",
   "execution_count": 28,
   "metadata": {},
   "outputs": [],
   "source": [
    "query = \"SELECT COUNTRYNAME, YEAR, VALUE FROM ENERGY WHERE INDICATORCODE = '4.1_SHARE.RE.IN.ELECTRICITY' AND VALUE IS NOT NULL\"\n",
    "for row in cur.execute(query):\n",
    "    df[row[0]][row[1]] = row[2]"
   ]
  },
  {
   "cell_type": "code",
   "execution_count": 29,
   "metadata": {},
   "outputs": [
    {
     "data": {
      "text/html": [
       "<div>\n",
       "<style scoped>\n",
       "    .dataframe tbody tr th:only-of-type {\n",
       "        vertical-align: middle;\n",
       "    }\n",
       "\n",
       "    .dataframe tbody tr th {\n",
       "        vertical-align: top;\n",
       "    }\n",
       "\n",
       "    .dataframe thead th {\n",
       "        text-align: right;\n",
       "    }\n",
       "</style>\n",
       "<table border=\"1\" class=\"dataframe\">\n",
       "  <thead>\n",
       "    <tr style=\"text-align: right;\">\n",
       "      <th></th>\n",
       "      <th>BES Islands</th>\n",
       "      <th>Nauru</th>\n",
       "      <th>Niue</th>\n",
       "      <th>Wallis and Futuna</th>\n",
       "      <th>Afghanistan</th>\n",
       "      <th>Albania</th>\n",
       "      <th>Algeria</th>\n",
       "      <th>American Samoa</th>\n",
       "      <th>Andorra</th>\n",
       "      <th>Angola</th>\n",
       "      <th>...</th>\n",
       "      <th>Uzbekistan</th>\n",
       "      <th>Vanuatu</th>\n",
       "      <th>Venezuela, RB</th>\n",
       "      <th>Vietnam</th>\n",
       "      <th>Virgin Islands (U.S.)</th>\n",
       "      <th>West Bank and Gaza</th>\n",
       "      <th>Western Sahara</th>\n",
       "      <th>Yemen, Rep.</th>\n",
       "      <th>Zambia</th>\n",
       "      <th>Zimbabwe</th>\n",
       "    </tr>\n",
       "  </thead>\n",
       "  <tbody>\n",
       "    <tr>\n",
       "      <th>1990</th>\n",
       "      <td>NaN</td>\n",
       "      <td>0</td>\n",
       "      <td>0</td>\n",
       "      <td>0</td>\n",
       "      <td>67.7305</td>\n",
       "      <td>86.4078</td>\n",
       "      <td>0.838301</td>\n",
       "      <td>0</td>\n",
       "      <td>100</td>\n",
       "      <td>86.2069</td>\n",
       "      <td>...</td>\n",
       "      <td>11.8029</td>\n",
       "      <td>0</td>\n",
       "      <td>62.3439</td>\n",
       "      <td>61.8477</td>\n",
       "      <td>0</td>\n",
       "      <td>0</td>\n",
       "      <td>0</td>\n",
       "      <td>0</td>\n",
       "      <td>99.2263</td>\n",
       "      <td>46.6674</td>\n",
       "    </tr>\n",
       "    <tr>\n",
       "      <th>1991</th>\n",
       "      <td>NaN</td>\n",
       "      <td>0</td>\n",
       "      <td>0</td>\n",
       "      <td>0</td>\n",
       "      <td>67.9803</td>\n",
       "      <td>92.1425</td>\n",
       "      <td>1.68925</td>\n",
       "      <td>0</td>\n",
       "      <td>100</td>\n",
       "      <td>82.6552</td>\n",
       "      <td>...</td>\n",
       "      <td>11.1345</td>\n",
       "      <td>0</td>\n",
       "      <td>70.3254</td>\n",
       "      <td>68.5885</td>\n",
       "      <td>0</td>\n",
       "      <td>0</td>\n",
       "      <td>0</td>\n",
       "      <td>0</td>\n",
       "      <td>99.2815</td>\n",
       "      <td>35.3205</td>\n",
       "    </tr>\n",
       "    <tr>\n",
       "      <th>1992</th>\n",
       "      <td>NaN</td>\n",
       "      <td>0</td>\n",
       "      <td>0</td>\n",
       "      <td>0</td>\n",
       "      <td>67.9943</td>\n",
       "      <td>95.0501</td>\n",
       "      <td>1.08826</td>\n",
       "      <td>0</td>\n",
       "      <td>100</td>\n",
       "      <td>88.7012</td>\n",
       "      <td>...</td>\n",
       "      <td>12.3372</td>\n",
       "      <td>0</td>\n",
       "      <td>70.0934</td>\n",
       "      <td>74.4771</td>\n",
       "      <td>0</td>\n",
       "      <td>0</td>\n",
       "      <td>0</td>\n",
       "      <td>0</td>\n",
       "      <td>99.0725</td>\n",
       "      <td>38.3756</td>\n",
       "    </tr>\n",
       "    <tr>\n",
       "      <th>1993</th>\n",
       "      <td>NaN</td>\n",
       "      <td>0</td>\n",
       "      <td>0</td>\n",
       "      <td>0</td>\n",
       "      <td>68.3453</td>\n",
       "      <td>93.9076</td>\n",
       "      <td>1.81828</td>\n",
       "      <td>0</td>\n",
       "      <td>100</td>\n",
       "      <td>93.6842</td>\n",
       "      <td>...</td>\n",
       "      <td>14.9708</td>\n",
       "      <td>0</td>\n",
       "      <td>68.4299</td>\n",
       "      <td>74.7046</td>\n",
       "      <td>0</td>\n",
       "      <td>0</td>\n",
       "      <td>0</td>\n",
       "      <td>0</td>\n",
       "      <td>99.2925</td>\n",
       "      <td>27.6111</td>\n",
       "    </tr>\n",
       "    <tr>\n",
       "      <th>1994</th>\n",
       "      <td>NaN</td>\n",
       "      <td>0</td>\n",
       "      <td>0</td>\n",
       "      <td>0</td>\n",
       "      <td>68.7045</td>\n",
       "      <td>95.6864</td>\n",
       "      <td>0.834884</td>\n",
       "      <td>0</td>\n",
       "      <td>100</td>\n",
       "      <td>93.7173</td>\n",
       "      <td>...</td>\n",
       "      <td>14.9707</td>\n",
       "      <td>0</td>\n",
       "      <td>72.0069</td>\n",
       "      <td>75.2197</td>\n",
       "      <td>0</td>\n",
       "      <td>0</td>\n",
       "      <td>0</td>\n",
       "      <td>0</td>\n",
       "      <td>99.398</td>\n",
       "      <td>27.8036</td>\n",
       "    </tr>\n",
       "  </tbody>\n",
       "</table>\n",
       "<p>5 rows × 233 columns</p>\n",
       "</div>"
      ],
      "text/plain": [
       "     BES Islands Nauru Niue Wallis and Futuna Afghanistan  Albania   Algeria  \\\n",
       "1990         NaN     0    0                 0     67.7305  86.4078  0.838301   \n",
       "1991         NaN     0    0                 0     67.9803  92.1425   1.68925   \n",
       "1992         NaN     0    0                 0     67.9943  95.0501   1.08826   \n",
       "1993         NaN     0    0                 0     68.3453  93.9076   1.81828   \n",
       "1994         NaN     0    0                 0     68.7045  95.6864  0.834884   \n",
       "\n",
       "     American Samoa Andorra   Angola  ... Uzbekistan Vanuatu Venezuela, RB  \\\n",
       "1990              0     100  86.2069  ...    11.8029       0       62.3439   \n",
       "1991              0     100  82.6552  ...    11.1345       0       70.3254   \n",
       "1992              0     100  88.7012  ...    12.3372       0       70.0934   \n",
       "1993              0     100  93.6842  ...    14.9708       0       68.4299   \n",
       "1994              0     100  93.7173  ...    14.9707       0       72.0069   \n",
       "\n",
       "      Vietnam Virgin Islands (U.S.) West Bank and Gaza Western Sahara  \\\n",
       "1990  61.8477                     0                  0              0   \n",
       "1991  68.5885                     0                  0              0   \n",
       "1992  74.4771                     0                  0              0   \n",
       "1993  74.7046                     0                  0              0   \n",
       "1994  75.2197                     0                  0              0   \n",
       "\n",
       "     Yemen, Rep.   Zambia Zimbabwe  \n",
       "1990           0  99.2263  46.6674  \n",
       "1991           0  99.2815  35.3205  \n",
       "1992           0  99.0725  38.3756  \n",
       "1993           0  99.2925  27.6111  \n",
       "1994           0   99.398  27.8036  \n",
       "\n",
       "[5 rows x 233 columns]"
      ]
     },
     "execution_count": 29,
     "metadata": {},
     "output_type": "execute_result"
    }
   ],
   "source": [
    "df.head()"
   ]
  },
  {
   "cell_type": "code",
   "execution_count": 36,
   "metadata": {},
   "outputs": [
    {
     "data": {
      "text/plain": [
       "<AxesSubplot:>"
      ]
     },
     "execution_count": 36,
     "metadata": {},
     "output_type": "execute_result"
    },
    {
     "data": {
      "image/png": "[encoded data removed]",
      "text/plain": [
       "<Figure size 432x288 with 1 Axes>"
      ]
     },
     "metadata": {
      "needs_background": "light"
     },
     "output_type": "display_data"
    }
   ],
   "source": [
    "df[['China', 'United Kingdom', 'India', 'Germany', 'United States', 'Nigeria']].plot()"
   ]
  },
  {
   "cell_type": "markdown",
   "metadata": {},
   "source": [
    "# EXERCISE 4\n",
    "\n",
    "What happens in the code above when bigfile.csv\n",
    "is one terabyte? How can we accomplish the same thing using O(1)\n",
    "memory? We stream it otherwise we are risking a crash"
   ]
  },
  {
   "cell_type": "markdown",
   "metadata": {},
   "source": [
    "# EXERCISE 5 AND 6\n"
   ]
  },
  {
   "cell_type": "code",
   "execution_count": null,
   "metadata": {},
   "outputs": [],
   "source": []
  }
 ],
 "metadata": {
  "interpreter": {
   "hash": "bbff5ed22f5efd8428d625af44571c5f6334ddbeac95d6f10010d77bc29b0cb4"
  },
  "kernelspec": {
   "display_name": "Python 3.6.13 64-bit ('ITDSv1': conda)",
   "name": "python3"
  },
  "language_info": {
   "codemirror_mode": {
    "name": "ipython",
    "version": 3
   },
   "file_extension": ".py",
   "mimetype": "text/x-python",
   "name": "python",
   "nbconvert_exporter": "python",
   "pygments_lexer": "ipython3",
   "version": "3.6.13"
  },
  "orig_nbformat": 4
 },
 "nbformat": 4,
 "nbformat_minor": 2
}
