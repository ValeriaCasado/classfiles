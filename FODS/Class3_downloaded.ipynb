{
 "cells": [
  {
   "cell_type": "code",
   "execution_count": 73,
   "source": [
    "%matplotlib inline\n",
    "import numpy as np\n",
    "from IPython.core.display import HTML\n",
    "HTML('<link href=\"https://fonts.googleapis.com/css?family=Cabin|Quicksand\" rel=\"stylesheet\"><style>.container{width:90% !important; font-family: \"Cabin\", sans-serif;}em{color: red !important;}</style><style>.output_png {display: table-cell;text-align: center;vertical-align: middle;}</style>')"
   ],
   "outputs": [
    {
     "output_type": "execute_result",
     "data": {
      "text/html": [
       "<link href=\"https://fonts.googleapis.com/css?family=Cabin|Quicksand\" rel=\"stylesheet\"><style>.container{width:90% !important; font-family: \"Cabin\", sans-serif;}em{color: red !important;}</style><style>.output_png {display: table-cell;text-align: center;vertical-align: middle;}</style>"
      ],
      "text/plain": [
       "<IPython.core.display.HTML object>"
      ]
     },
     "metadata": {},
     "execution_count": 73
    }
   ],
   "metadata": {
    "slideshow": {
     "slide_type": "skip"
    }
   }
  },
  {
   "cell_type": "markdown",
   "source": [
    "# Indexing Arrays\n",
    "## Numerical Elaboration in Python\n"
   ],
   "metadata": {
    "slideshow": {
     "slide_type": "slide"
    }
   }
  },
  {
   "cell_type": "markdown",
   "source": [
    "## Boolean Indexing\n",
    "\n",
    "- if one writes a logical test (e.g. X == 1) then \n",
    "  - every element of the np array X is tested\n",
    "  - the result is an array of the same shape of Booleans (True or False)\n",
    "\n"
   ],
   "metadata": {
    "slideshow": {
     "slide_type": "slide"
    }
   }
  },
  {
   "cell_type": "code",
   "execution_count": 74,
   "source": [
    "X = np.array([[0,1,2],[3,4,5]])\n",
    "print(X)\n",
    "X >= 2"
   ],
   "outputs": [
    {
     "output_type": "stream",
     "name": "stdout",
     "text": [
      "[[0 1 2]\n",
      " [3 4 5]]\n"
     ]
    },
    {
     "output_type": "execute_result",
     "data": {
      "text/plain": [
       "array([[False, False,  True],\n",
       "       [ True,  True,  True]])"
      ]
     },
     "metadata": {},
     "execution_count": 74
    }
   ],
   "metadata": {
    "slideshow": {
     "slide_type": "fragment"
    }
   }
  },
  {
   "cell_type": "markdown",
   "source": [
    "## Fancy Indexing\n",
    "\n",
    "- indexing that uses boolean or integer arrays, also called *masks*\n",
    "- the resulting array will be a *copy*, **not** a *view*\n",
    "- Question: what is the shape of the returned array?"
   ],
   "metadata": {
    "slideshow": {
     "slide_type": "subslide"
    }
   }
  },
  {
   "cell_type": "code",
   "execution_count": 75,
   "source": [
    "X = np.array([[0,1,2],[3,4,5],[6,7,8]])\n",
    "print(X)\n",
    "M = X >= 2\n",
    "M"
   ],
   "outputs": [
    {
     "output_type": "stream",
     "name": "stdout",
     "text": [
      "[[0 1 2]\n",
      " [3 4 5]\n",
      " [6 7 8]]\n"
     ]
    },
    {
     "output_type": "execute_result",
     "data": {
      "text/plain": [
       "array([[False, False,  True],\n",
       "       [ True,  True,  True],\n",
       "       [ True,  True,  True]])"
      ]
     },
     "metadata": {},
     "execution_count": 75
    }
   ],
   "metadata": {
    "slideshow": {
     "slide_type": "fragment"
    }
   }
  },
  {
   "cell_type": "code",
   "execution_count": 76,
   "source": [
    "X = np.array([[0,1,2],[3,4,5],[6,7,8]])\n",
    "print(X)\n",
    "M = X >= 2\n",
    "M"
   ],
   "outputs": [
    {
     "output_type": "stream",
     "name": "stdout",
     "text": [
      "[[0 1 2]\n",
      " [3 4 5]\n",
      " [6 7 8]]\n"
     ]
    },
    {
     "output_type": "execute_result",
     "data": {
      "text/plain": [
       "array([[False, False,  True],\n",
       "       [ True,  True,  True],\n",
       "       [ True,  True,  True]])"
      ]
     },
     "metadata": {},
     "execution_count": 76
    }
   ],
   "metadata": {
    "slideshow": {
     "slide_type": "subslide"
    }
   }
  },
  {
   "cell_type": "code",
   "execution_count": 77,
   "source": [
    "X[M]"
   ],
   "outputs": [
    {
     "output_type": "execute_result",
     "data": {
      "text/plain": [
       "array([2, 3, 4, 5, 6, 7, 8])"
      ]
     },
     "metadata": {},
     "execution_count": 77
    }
   ],
   "metadata": {
    "slideshow": {
     "slide_type": "fragment"
    }
   }
  },
  {
   "cell_type": "code",
   "execution_count": 78,
   "source": [
    "X[X >= 2]"
   ],
   "outputs": [
    {
     "output_type": "execute_result",
     "data": {
      "text/plain": [
       "array([2, 3, 4, 5, 6, 7, 8])"
      ]
     },
     "metadata": {},
     "execution_count": 78
    }
   ],
   "metadata": {
    "slideshow": {
     "slide_type": "fragment"
    }
   }
  },
  {
   "cell_type": "markdown",
   "source": [
    "**Note:** the shape of the original array is lost!\n",
    "\n",
    "The result is a 1-dimensional array.\n",
    "\n",
    "The meaning of the selection procedure is: \n",
    "\n",
    "- pick certain elements and not others. \n",
    "- the elelements that are not selected do not exist, cannot be referenced, they do not have a position.  "
   ],
   "metadata": {
    "slideshow": {
     "slide_type": "subslide"
    }
   }
  },
  {
   "cell_type": "code",
   "execution_count": 79,
   "source": [
    "# we can however modify the selected elements! \n",
    "\n",
    "X[X>=2]=-1\n",
    "X"
   ],
   "outputs": [
    {
     "output_type": "execute_result",
     "data": {
      "text/plain": [
       "array([[ 0,  1, -1],\n",
       "       [-1, -1, -1],\n",
       "       [-1, -1, -1]])"
      ]
     },
     "metadata": {},
     "execution_count": 79
    }
   ],
   "metadata": {
    "slideshow": {
     "slide_type": "subslide"
    }
   }
  },
  {
   "cell_type": "markdown",
   "source": [
    "The meaning of the operation is: \n",
    "\n",
    "- act on the selcted elements of the array\n",
    "- do not act on the non selected elements\n",
    "\n",
    "So the original array shape can be preserved."
   ],
   "metadata": {
    "slideshow": {
     "slide_type": "fragment"
    }
   }
  },
  {
   "cell_type": "markdown",
   "source": [
    "Can we use the result of boolean conditions on array A to index array B?\n",
    "\n",
    "Yes, just be careful with the shapes!"
   ],
   "metadata": {
    "slideshow": {
     "slide_type": "subslide"
    }
   }
  },
  {
   "cell_type": "code",
   "execution_count": 80,
   "source": [
    "A = np.arange(20).reshape(4,5)\n",
    "B = np.arange(20,40).reshape(4,5)\n",
    "print(A)\n",
    "print('-'*20)\n",
    "print(B)"
   ],
   "outputs": [
    {
     "output_type": "stream",
     "name": "stdout",
     "text": [
      "[[ 0  1  2  3  4]\n",
      " [ 5  6  7  8  9]\n",
      " [10 11 12 13 14]\n",
      " [15 16 17 18 19]]\n",
      "--------------------\n",
      "[[20 21 22 23 24]\n",
      " [25 26 27 28 29]\n",
      " [30 31 32 33 34]\n",
      " [35 36 37 38 39]]\n"
     ]
    }
   ],
   "metadata": {
    "slideshow": {
     "slide_type": "fragment"
    }
   }
  },
  {
   "cell_type": "code",
   "execution_count": 81,
   "source": [
    "B[A%2==0]"
   ],
   "outputs": [
    {
     "output_type": "execute_result",
     "data": {
      "text/plain": [
       "array([20, 22, 24, 26, 28, 30, 32, 34, 36, 38])"
      ]
     },
     "metadata": {},
     "execution_count": 81
    }
   ],
   "metadata": {
    "slideshow": {
     "slide_type": "fragment"
    }
   }
  },
  {
   "cell_type": "markdown",
   "source": [
    "What happens if A and B do not have the same shape?"
   ],
   "metadata": {
    "slideshow": {
     "slide_type": "subslide"
    }
   }
  },
  {
   "cell_type": "code",
   "execution_count": 83,
   "source": [
    "A = np.arange(20).reshape(4,5)\n",
    "B = np.arange(20,40).reshape(4,5)\n",
    "B[A%2==0]"
   ],
   "outputs": [
    {
     "output_type": "execute_result",
     "data": {
      "text/plain": [
       "array([20, 22, 24, 26, 28, 30, 32, 34, 36, 38])"
      ]
     },
     "metadata": {},
     "execution_count": 83
    }
   ],
   "metadata": {
    "slideshow": {
     "slide_type": "fragment"
    }
   }
  },
  {
   "cell_type": "markdown",
   "source": [
    "## Indexing with an Integer Array (or list)"
   ],
   "metadata": {
    "slideshow": {
     "slide_type": "subslide"
    }
   }
  },
  {
   "cell_type": "code",
   "execution_count": 19,
   "source": [
    "X = np.arange(20).reshape(4,5)\n",
    "X"
   ],
   "outputs": [
    {
     "output_type": "execute_result",
     "data": {
      "text/plain": [
       "array([[ 0,  1,  2,  3,  4],\n",
       "       [ 5,  6,  7,  8,  9],\n",
       "       [10, 11, 12, 13, 14],\n",
       "       [15, 16, 17, 18, 19]])"
      ]
     },
     "metadata": {},
     "execution_count": 19
    }
   ],
   "metadata": {
    "slideshow": {
     "slide_type": "fragment"
    }
   }
  },
  {
   "cell_type": "code",
   "execution_count": 44,
   "source": [
    "ids = [1,3]\n",
    "X[ids]"
   ],
   "outputs": [
    {
     "output_type": "execute_result",
     "data": {
      "text/plain": [
       "array([[ 5,  6,  7,  8,  9],\n",
       "       [15, 16, 17, 18, 19]])"
      ]
     },
     "metadata": {},
     "execution_count": 44
    }
   ],
   "metadata": {
    "slideshow": {
     "slide_type": "fragment"
    }
   }
  },
  {
   "cell_type": "markdown",
   "source": [
    "**behaviour:** an array (or list) of integers selects *rows* in a multi dimensional array"
   ],
   "metadata": {
    "slideshow": {
     "slide_type": "fragment"
    }
   }
  },
  {
   "cell_type": "markdown",
   "source": [
    "How can I select desired columns?"
   ],
   "metadata": {
    "slideshow": {
     "slide_type": "subslide"
    }
   }
  },
  {
   "cell_type": "code",
   "execution_count": 46,
   "source": [
    "X = np.arange(20).reshape(4,5)\n",
    "print(X)\n",
    "ids = [1,2]\n",
    "X[:, ids]"
   ],
   "outputs": [
    {
     "output_type": "stream",
     "name": "stdout",
     "text": [
      "[[ 0  1  2  3  4]\n",
      " [ 5  6  7  8  9]\n",
      " [10 11 12 13 14]\n",
      " [15 16 17 18 19]]\n"
     ]
    },
    {
     "output_type": "execute_result",
     "data": {
      "text/plain": [
       "array([[ 1,  2],\n",
       "       [ 6,  7],\n",
       "       [11, 12],\n",
       "       [16, 17]])"
      ]
     },
     "metadata": {},
     "execution_count": 46
    }
   ],
   "metadata": {
    "slideshow": {
     "slide_type": "fragment"
    }
   }
  },
  {
   "cell_type": "markdown",
   "source": [
    "Ok then, how about selecting specified rows and columns?"
   ],
   "metadata": {
    "slideshow": {
     "slide_type": "subslide"
    }
   }
  },
  {
   "cell_type": "code",
   "execution_count": 47,
   "source": [
    "X = np.arange(20).reshape(4,5)\n",
    "print(X)\n",
    "ids = [1,3]\n",
    "X[ids, ids]"
   ],
   "outputs": [
    {
     "output_type": "stream",
     "name": "stdout",
     "text": [
      "[[ 0  1  2  3  4]\n",
      " [ 5  6  7  8  9]\n",
      " [10 11 12 13 14]\n",
      " [15 16 17 18 19]]\n"
     ]
    },
    {
     "output_type": "execute_result",
     "data": {
      "text/plain": [
       "array([ 6, 18])"
      ]
     },
     "metadata": {},
     "execution_count": 47
    }
   ],
   "metadata": {
    "slideshow": {
     "slide_type": "fragment"
    }
   }
  },
  {
   "cell_type": "markdown",
   "source": [
    "this is not what one expects!"
   ],
   "metadata": {
    "slideshow": {
     "slide_type": "fragment"
    }
   }
  },
  {
   "cell_type": "markdown",
   "source": [
    "The selection with `[ids, ids]` is asking to use the tuple `(ids,ids)`"
   ],
   "metadata": {
    "slideshow": {
     "slide_type": "subslide"
    }
   }
  },
  {
   "cell_type": "code",
   "execution_count": 36,
   "source": [
    "ids = [1,3]\n",
    "(ids, ids)"
   ],
   "outputs": [
    {
     "output_type": "execute_result",
     "data": {
      "text/plain": [
       "([1, 3], [1, 3])"
      ]
     },
     "metadata": {},
     "execution_count": 36
    }
   ],
   "metadata": {
    "slideshow": {
     "slide_type": "fragment"
    }
   }
  },
  {
   "cell_type": "code",
   "execution_count": 37,
   "source": [
    "X[([1, 3], [1, 3])]"
   ],
   "outputs": [
    {
     "output_type": "execute_result",
     "data": {
      "text/plain": [
       "array([ 6, 18])"
      ]
     },
     "metadata": {},
     "execution_count": 37
    }
   ],
   "metadata": {
    "slideshow": {
     "slide_type": "fragment"
    }
   }
  },
  {
   "cell_type": "markdown",
   "source": [
    "How can we ask to select rows 1 and 3 and columns 1 and 3?"
   ],
   "metadata": {
    "slideshow": {
     "slide_type": "subslide"
    }
   }
  },
  {
   "cell_type": "code",
   "execution_count": 49,
   "source": [
    "X = np.arange(20).reshape(4,5)\n",
    "print(X)\n",
    "r_ids = [1,3]\n",
    "c_ids = [1,3]\n",
    "X[r_ids][:,c_ids]"
   ],
   "outputs": [
    {
     "output_type": "stream",
     "name": "stdout",
     "text": [
      "[[ 0  1  2  3  4]\n",
      " [ 5  6  7  8  9]\n",
      " [10 11 12 13 14]\n",
      " [15 16 17 18 19]]\n"
     ]
    },
    {
     "output_type": "execute_result",
     "data": {
      "text/plain": [
       "array([[ 6,  8],\n",
       "       [16, 18]])"
      ]
     },
     "metadata": {},
     "execution_count": 49
    }
   ],
   "metadata": {
    "slideshow": {
     "slide_type": "fragment"
    }
   }
  },
  {
   "cell_type": "markdown",
   "source": [
    "## Where\n",
    "\n",
    "- the function `where` checks the truth of the statement on each element of the matrix\n",
    "- it returns a tuple of arrays with the indices of the elements that satisfy the statement\n",
    "- similar to boolean masking but exposes the selected ids"
   ],
   "metadata": {
    "slideshow": {
     "slide_type": "subslide"
    }
   }
  },
  {
   "cell_type": "code",
   "execution_count": 90,
   "source": [
    "X = np.arange(20).reshape(4,5)\n",
    "print(X)\n",
    "np.where(X>3)"
   ],
   "outputs": [
    {
     "output_type": "stream",
     "name": "stdout",
     "text": [
      "[[ 0  1  2  3  4]\n",
      " [ 5  6  7  8  9]\n",
      " [10 11 12 13 14]\n",
      " [15 16 17 18 19]]\n"
     ]
    },
    {
     "output_type": "execute_result",
     "data": {
      "text/plain": [
       "(array([0, 1, 1, 1, 1, 1, 2, 2, 2, 2, 2, 3, 3, 3, 3, 3]),\n",
       " array([4, 0, 1, 2, 3, 4, 0, 1, 2, 3, 4, 0, 1, 2, 3, 4]))"
      ]
     },
     "metadata": {},
     "execution_count": 90
    }
   ],
   "metadata": {
    "slideshow": {
     "slide_type": "fragment"
    }
   }
  },
  {
   "cell_type": "code",
   "execution_count": 52,
   "source": [
    "r_ids, c_ids = np.where(X>3)\n",
    "print(r_ids)\n",
    "print(c_ids)\n",
    "print(X[r_ids,c_ids])\n",
    "print('-'*50)\n",
    "ids = np.where(X>3)\n",
    "print(X[ids])"
   ],
   "outputs": [
    {
     "output_type": "stream",
     "name": "stdout",
     "text": [
      "[0 1 1 1 1 1 2 2 2 2 2 3 3 3 3 3]\n",
      "[4 0 1 2 3 4 0 1 2 3 4 0 1 2 3 4]\n",
      "[ 4  5  6  7  8  9 10 11 12 13 14 15 16 17 18 19]\n",
      "--------------------------------------------------\n",
      "[ 4  5  6  7  8  9 10 11 12 13 14 15 16 17 18 19]\n"
     ]
    }
   ],
   "metadata": {
    "slideshow": {
     "slide_type": "subslide"
    }
   }
  },
  {
   "cell_type": "code",
   "execution_count": 71,
   "source": [
    "X = np.arange(20).reshape(4,5)\n",
    "print(X)\n",
    "ids = np.where(X>3)\n",
    "X[ids]=-1\n",
    "X"
   ],
   "outputs": [
    {
     "output_type": "stream",
     "name": "stdout",
     "text": [
      "[[ 0  1  2  3  4]\n",
      " [ 5  6  7  8  9]\n",
      " [10 11 12 13 14]\n",
      " [15 16 17 18 19]]\n"
     ]
    },
    {
     "output_type": "execute_result",
     "data": {
      "text/plain": [
       "array([[ 0,  1,  2,  3, -1],\n",
       "       [-1, -1, -1, -1, -1],\n",
       "       [-1, -1, -1, -1, -1],\n",
       "       [-1, -1, -1, -1, -1]])"
      ]
     },
     "metadata": {},
     "execution_count": 71
    }
   ],
   "metadata": {
    "slideshow": {
     "slide_type": "fragment"
    }
   }
  },
  {
   "cell_type": "markdown",
   "source": [
    "## Stacking together different arrays\n",
    "\n",
    "- arrays can be stacked together along different axes\n",
    "- `vstack` for vertical stacking and `hstack` for horizontal stacking\n",
    "- when array has more than two dimensions, hstack stacks along their second axes, vstack stacks along their first axes"
   ],
   "metadata": {
    "slideshow": {
     "slide_type": "slide"
    }
   }
  },
  {
   "cell_type": "code",
   "execution_count": 8,
   "source": [
    "X = np.arange(10).reshape(2,-1)\n",
    "Z = (np.arange(10)+20).reshape(2,-1)\n",
    "print(X)\n",
    "print('-'*20)\n",
    "print(Z)"
   ],
   "outputs": [
    {
     "output_type": "stream",
     "name": "stdout",
     "text": [
      "[[0 1 2 3 4]\n",
      " [5 6 7 8 9]]\n",
      "--------------------\n",
      "[[20 21 22 23 24]\n",
      " [25 26 27 28 29]]\n"
     ]
    }
   ],
   "metadata": {
    "slideshow": {
     "slide_type": "subslide"
    }
   }
  },
  {
   "cell_type": "code",
   "execution_count": 13,
   "source": [
    "np.hstack([X,Z])"
   ],
   "outputs": [
    {
     "output_type": "execute_result",
     "data": {
      "text/plain": [
       "array([[ 0,  1,  2,  3,  4, 20, 21, 22, 23, 24],\n",
       "       [ 5,  6,  7,  8,  9, 25, 26, 27, 28, 29]])"
      ]
     },
     "metadata": {},
     "execution_count": 13
    }
   ],
   "metadata": {
    "slideshow": {
     "slide_type": "fragment"
    }
   }
  },
  {
   "cell_type": "code",
   "execution_count": 14,
   "source": [
    "np.vstack([X,Z])"
   ],
   "outputs": [
    {
     "output_type": "execute_result",
     "data": {
      "text/plain": [
       "array([[ 0,  1,  2,  3,  4],\n",
       "       [ 5,  6,  7,  8,  9],\n",
       "       [20, 21, 22, 23, 24],\n",
       "       [25, 26, 27, 28, 29]])"
      ]
     },
     "metadata": {},
     "execution_count": 14
    }
   ],
   "metadata": {
    "slideshow": {
     "slide_type": "fragment"
    }
   }
  },
  {
   "cell_type": "markdown",
   "source": [
    "## Splitting arrays\n",
    "\n",
    "- arrays can be split along different axes\n",
    "- `vsplit` and `hsplit` for vertical and horizontal splitting\n",
    "- e.g. `hsplit` can split an array along its horizontal axis\n",
    "  - either by specifying the number of equally shaped arrays\n",
    "  - or by specifying the columns after which to do the division"
   ],
   "metadata": {
    "slideshow": {
     "slide_type": "subslide"
    }
   }
  },
  {
   "cell_type": "code",
   "execution_count": 58,
   "source": [
    "X = np.arange(12).reshape(2,-1)\n",
    "print(X)\n",
    "L = np.hsplit(X,3) # split in 3\n",
    "L"
   ],
   "outputs": [
    {
     "output_type": "stream",
     "name": "stdout",
     "text": [
      "[[ 0  1  2  3  4  5]\n",
      " [ 6  7  8  9 10 11]]\n"
     ]
    },
    {
     "output_type": "execute_result",
     "data": {
      "text/plain": [
       "[array([[0, 1],\n",
       "        [6, 7]]),\n",
       " array([[2, 3],\n",
       "        [8, 9]]),\n",
       " array([[ 4,  5],\n",
       "        [10, 11]])]"
      ]
     },
     "metadata": {},
     "execution_count": 58
    }
   ],
   "metadata": {
    "slideshow": {
     "slide_type": "subslide"
    }
   }
  },
  {
   "cell_type": "code",
   "execution_count": 25,
   "source": [
    "L = np.hsplit(X,(3,4))   # split a after the third and the fourth column\n",
    "print(L[0])\n",
    "print(L[1])\n",
    "print(L[2])"
   ],
   "outputs": [
    {
     "output_type": "stream",
     "name": "stdout",
     "text": [
      "[[0 1 2]\n",
      " [6 7 8]]\n",
      "[[3]\n",
      " [9]]\n",
      "[[ 4  5]\n",
      " [10 11]]\n"
     ]
    }
   ],
   "metadata": {
    "slideshow": {
     "slide_type": "fragment"
    }
   }
  },
  {
   "cell_type": "markdown",
   "source": [
    "- check other manipulations offered by numpy\n",
    "- array_split, column_stack, concatenate, diagonal, dsplit, dstack, hsplit, hstack, ndarray.item, newaxis, ravel, repeat, reshape, resize, squeeze, swapaxes, take, transpose, vsplit, vstack\n"
   ],
   "metadata": {
    "slideshow": {
     "slide_type": "subslide"
    }
   }
  },
  {
   "cell_type": "markdown",
   "source": [
    "# Operations between arrays\n",
    "\n",
    "All arithmetic operations (+, -, ...) between two arrays are supported if both arrays have the same shape"
   ],
   "metadata": {
    "slideshow": {
     "slide_type": "slide"
    }
   }
  },
  {
   "cell_type": "code",
   "execution_count": 66,
   "source": [
    "A = np.arange(10).reshape(2,5)\n",
    "B = np.arange(10,20).reshape(2,5)\n",
    "print(A)\n",
    "print('-'*30)\n",
    "print(B)"
   ],
   "outputs": [
    {
     "output_type": "stream",
     "name": "stdout",
     "text": [
      "[[0 1 2 3 4]\n",
      " [5 6 7 8 9]]\n",
      "------------------------------\n",
      "[[10 11 12 13 14]\n",
      " [15 16 17 18 19]]\n"
     ]
    }
   ],
   "metadata": {
    "slideshow": {
     "slide_type": "subslide"
    }
   }
  },
  {
   "cell_type": "code",
   "execution_count": 73,
   "source": [
    "A+B"
   ],
   "outputs": [
    {
     "output_type": "execute_result",
     "data": {
      "text/plain": [
       "array([[10, 12, 14, 16, 18],\n",
       "       [20, 22, 24, 26, 28]])"
      ]
     },
     "metadata": {},
     "execution_count": 73
    }
   ],
   "metadata": {
    "slideshow": {
     "slide_type": "fragment"
    }
   }
  },
  {
   "cell_type": "markdown",
   "source": [
    "# Broadcasting\n",
    "\n",
    "- broadcasting is used to decide how to handle arrays with different shapes\n",
    "- e.g. all arithmetic operations (+, -, ...) between ndarrays *broadcast* the arrays before operation"
   ],
   "metadata": {
    "slideshow": {
     "slide_type": "slide"
    }
   }
  },
  {
   "cell_type": "markdown",
   "source": [
    "- only specific cases are allowed\n",
    "- it obeys four rules"
   ],
   "metadata": {
    "slideshow": {
     "slide_type": "fragment"
    }
   }
  },
  {
   "cell_type": "markdown",
   "source": [
    "# Broadcasting Rules\n",
    "\n",
    "|#|what|\n",
    "|---|:---|\n",
    "| 1| all input arrays with ndim smaller than the input array of largest ndim, have 1’s *prepended* to their *shapes* |\n",
    "| 2| the size in each dimension of the output shape is the *maximum* of all the input sizes in that dimension |\n",
    "| 3| an input can be used in the calculation *if* its size in a particular dimension either\n",
    "|  |  - matches the output size in that dimension|\n",
    "|  | - or has value exactly 1 |\n",
    "| 4| if an input has a dimension *size of 1* in its shape, the first data entry in that dimension will be used for all calculations along that dimension |\n"
   ],
   "metadata": {
    "slideshow": {
     "slide_type": "subslide"
    }
   }
  },
  {
   "cell_type": "code",
   "execution_count": 59,
   "source": [
    "a = np.arange(5).reshape(5,1)\n",
    "a"
   ],
   "outputs": [
    {
     "output_type": "execute_result",
     "data": {
      "text/plain": [
       "array([[0],\n",
       "       [1],\n",
       "       [2],\n",
       "       [3],\n",
       "       [4]])"
      ]
     },
     "metadata": {},
     "execution_count": 59
    }
   ],
   "metadata": {
    "slideshow": {
     "slide_type": "subslide"
    }
   }
  },
  {
   "cell_type": "code",
   "execution_count": 60,
   "source": [
    "b = np.arange(6).reshape(1,6)\n",
    "b"
   ],
   "outputs": [
    {
     "output_type": "execute_result",
     "data": {
      "text/plain": [
       "array([[0, 1, 2, 3, 4, 5]])"
      ]
     },
     "metadata": {},
     "execution_count": 60
    }
   ],
   "metadata": {
    "slideshow": {
     "slide_type": "fragment"
    }
   }
  },
  {
   "cell_type": "code",
   "execution_count": 61,
   "source": [
    "c = np.arange(6).reshape(6,)\n",
    "c"
   ],
   "outputs": [
    {
     "output_type": "execute_result",
     "data": {
      "text/plain": [
       "array([0, 1, 2, 3, 4, 5])"
      ]
     },
     "metadata": {},
     "execution_count": 61
    }
   ],
   "metadata": {
    "slideshow": {
     "slide_type": "fragment"
    }
   }
  },
  {
   "cell_type": "code",
   "execution_count": 62,
   "source": [
    "d = np.array(7)\n",
    "d"
   ],
   "outputs": [
    {
     "output_type": "execute_result",
     "data": {
      "text/plain": [
       "array(7)"
      ]
     },
     "metadata": {},
     "execution_count": 62
    }
   ],
   "metadata": {
    "slideshow": {
     "slide_type": "fragment"
    }
   }
  },
  {
   "cell_type": "markdown",
   "source": [
    "Let's say we want to do `a*b`\n",
    "- `a` has shape (5,1), `b` (1,6)\n",
    "- Rule 2: shape is (5,6)\n",
    "- for `a` Rule 4 so that `a[:,0]` is broadcast to the other columns\n",
    "- for `b` Rule 4 so that `b[0,:]` is broadcast to the other rows"
   ],
   "metadata": {
    "slideshow": {
     "slide_type": "subslide"
    }
   }
  },
  {
   "cell_type": "code",
   "execution_count": 39,
   "source": [
    "a*b"
   ],
   "outputs": [
    {
     "output_type": "execute_result",
     "data": {
      "text/plain": [
       "array([[ 0,  0,  0,  0,  0,  0],\n",
       "       [ 0,  1,  2,  3,  4,  5],\n",
       "       [ 0,  2,  4,  6,  8, 10],\n",
       "       [ 0,  3,  6,  9, 12, 15],\n",
       "       [ 0,  4,  8, 12, 16, 20]])"
      ]
     },
     "metadata": {},
     "execution_count": 39
    }
   ],
   "metadata": {
    "slideshow": {
     "slide_type": "fragment"
    }
   }
  },
  {
   "cell_type": "markdown",
   "source": [
    "Let's say we want to do `a*c`\n",
    "- `a` has shape (5,1), `c` (6,)\n",
    "- for `c` Rule 1, so `c` acts like a `(1,6)`\n",
    "- Rule 2: shape is (5,6)\n",
    "- Rule 4: `c[:]` is broadcast to every row"
   ],
   "metadata": {
    "slideshow": {
     "slide_type": "subslide"
    }
   }
  },
  {
   "cell_type": "code",
   "execution_count": 118,
   "source": [
    "a*c"
   ],
   "outputs": [
    {
     "output_type": "execute_result",
     "data": {
      "text/plain": [
       "array([[ 0,  0,  0,  0,  0,  0],\n",
       "       [ 0,  1,  2,  3,  4,  5],\n",
       "       [ 0,  2,  4,  6,  8, 10],\n",
       "       [ 0,  3,  6,  9, 12, 15],\n",
       "       [ 0,  4,  8, 12, 16, 20]])"
      ]
     },
     "metadata": {},
     "execution_count": 118
    }
   ],
   "metadata": {
    "slideshow": {
     "slide_type": "fragment"
    }
   }
  },
  {
   "cell_type": "markdown",
   "source": [
    "Let's say we want to do `a*d`\n",
    "- `a` has shape (5,1), `d` ()\n",
    "- for `d` Rule 1, so `d` acts like a `(1,)`\n",
    "- again Rule 1, so `d` acts like a `(1,1)`\n",
    "- Rule 2: shape is (5,1)\n",
    "- Rule 4: `d` is broadcast to every row"
   ],
   "metadata": {
    "slideshow": {
     "slide_type": "subslide"
    }
   }
  },
  {
   "cell_type": "code",
   "execution_count": 75,
   "source": [
    "a*d"
   ],
   "outputs": [
    {
     "output_type": "execute_result",
     "data": {
      "text/plain": [
       "array([[ 0],\n",
       "       [ 7],\n",
       "       [14],\n",
       "       [21],\n",
       "       [28]])"
      ]
     },
     "metadata": {},
     "execution_count": 75
    }
   ],
   "metadata": {
    "slideshow": {
     "slide_type": "fragment"
    }
   }
  },
  {
   "cell_type": "markdown",
   "source": [
    "Let's say we want to do `b*d`\n",
    "- `b` has shape (1,6), `d` ()\n",
    "- for `d` Rule 1, so `d` acts like a `(1,)`\n",
    "- again Rule 1, so `d` acts like a `(1,1)`\n",
    "- Rule 2: shape is (1,6)\n",
    "- Rule 4: `d` is broadcast to every column"
   ],
   "metadata": {
    "slideshow": {
     "slide_type": "subslide"
    }
   }
  },
  {
   "cell_type": "code",
   "execution_count": 122,
   "source": [
    "b*d"
   ],
   "outputs": [
    {
     "output_type": "execute_result",
     "data": {
      "text/plain": [
       "array([[ 0,  7, 14, 21, 28, 35]])"
      ]
     },
     "metadata": {},
     "execution_count": 122
    }
   ],
   "metadata": {
    "slideshow": {
     "slide_type": "fragment"
    }
   }
  },
  {
   "cell_type": "markdown",
   "source": [
    "\n",
    "# Summary\n",
    "\n",
    "1. Arrays can be indexed in many ways and offer support for bulk updates\n",
    "2. Broadcasting allows compact expressions to manipulate arrays without resorting to loops"
   ],
   "metadata": {
    "slideshow": {
     "slide_type": "slide"
    }
   }
  },
  {
   "cell_type": "markdown",
   "source": [
    "Create a one dimensional array from 1 to 99\n",
    "\n",
    "Choose random number n in the interval 0 100\n",
    "\n",
    "find closest value to n in a one dimensional array"
   ],
   "metadata": {}
  },
  {
   "cell_type": "code",
   "execution_count": 40,
   "source": [
    "import numpy as np\n",
    "X = np.random.rand(100)*100\n",
    "np.sort(X)[:10]"
   ],
   "outputs": [
    {
     "output_type": "execute_result",
     "data": {
      "text/plain": [
       "array([0.00622131, 0.2442277 , 0.32437554, 0.52134989, 0.7220988 ,\n",
       "       1.07085177, 2.13058833, 4.27559007, 4.79619539, 5.61173482])"
      ]
     },
     "metadata": {},
     "execution_count": 40
    }
   ],
   "metadata": {}
  },
  {
   "cell_type": "code",
   "execution_count": 51,
   "source": [
    "n = np.random.rand()*100\n",
    "\n",
    "closest = 10000\n",
    "for value in X:\n",
    "    if abs(value - n) < closest:\n",
    "        closest = value\n",
    "print(n, closest)\n"
   ],
   "outputs": [
    {
     "output_type": "stream",
     "name": "stdout",
     "text": [
      "13.165774250931694 0.24422770420389206\n"
     ]
    }
   ],
   "metadata": {}
  },
  {
   "cell_type": "code",
   "execution_count": 72,
   "source": [
    "X = np.random.randint(0,100,40).reshape(10,-1)\n",
    "\n",
    "newIndices = np.argsort(X, axis=0)\n",
    "print(X[newIndices].shape)"
   ],
   "outputs": [
    {
     "output_type": "stream",
     "name": "stdout",
     "text": [
      "(10, 4, 4)\n"
     ]
    }
   ],
   "metadata": {}
  },
  {
   "cell_type": "code",
   "execution_count": null,
   "source": [],
   "outputs": [],
   "metadata": {}
  }
 ],
 "metadata": {
  "celltoolbar": "Slideshow",
  "kernelspec": {
   "name": "python3",
   "display_name": "Python 3.6.13 64-bit ('LFDv1': conda)"
  },
  "language_info": {
   "codemirror_mode": {
    "name": "ipython",
    "version": 3
   },
   "file_extension": ".py",
   "mimetype": "text/x-python",
   "name": "python",
   "nbconvert_exporter": "python",
   "pygments_lexer": "ipython3",
   "version": "3.6.13"
  },
  "livereveal": {
   "scroll": true,
   "start_slideshow_at": "selected",
   "theme": "simple",
   "transition": "slide"
  },
  "toc": {
   "base_numbering": 1,
   "nav_menu": {},
   "number_sections": true,
   "sideBar": false,
   "skip_h1_title": true,
   "title_cell": "Table of Contents",
   "title_sidebar": "Contents",
   "toc_cell": true,
   "toc_position": {},
   "toc_section_display": true,
   "toc_window_display": false
  },
  "interpreter": {
   "hash": "f82c2f8ad3e9bfed506ff52db88ad465d99b2d6b7a9698ca7ae625303d87b884"
  }
 },
 "nbformat": 4,
 "nbformat_minor": 2
}