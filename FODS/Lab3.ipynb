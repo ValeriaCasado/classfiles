{
 "cells": [
  {
   "cell_type": "code",
   "execution_count": 2,
   "source": [
    "import numpy as np"
   ],
   "outputs": [],
   "metadata": {
    "ExecuteTime": {
     "end_time": "2018-10-14T18:10:36.914322Z",
     "start_time": "2018-10-14T18:10:36.911263Z"
    },
    "slideshow": {
     "slide_type": "skip"
    }
   }
  },
  {
   "cell_type": "markdown",
   "source": [
    "# Practice"
   ],
   "metadata": {
    "slideshow": {
     "slide_type": "slide"
    }
   }
  },
  {
   "cell_type": "markdown",
   "source": [
    "## Question 1\n",
    "\n",
    "Write a function called `count_common(A,B)` to count, efficiently, how many elements share the same value at the same position in `A` and `B`.\n",
    "\n",
    "Write a function called `find_common(A,B)` to find, efficiently, the position of the elements that share the same value at the same position in `A` and `B`. The function should return both the values that are in common and their positions.  \n",
    "\n",
    "Throw an error if the arrays are not one dimensional. "
   ],
   "metadata": {
    "slideshow": {
     "slide_type": "subslide"
    }
   }
  },
  {
   "cell_type": "code",
   "execution_count": 27,
   "source": [
    "A = np.random.randint(0,10,10)\n",
    "B = np.random.randint(0,10,10)\n",
    "print(A)\n",
    "print(B)\n",
    "A==B"
   ],
   "outputs": [
    {
     "output_type": "stream",
     "name": "stdout",
     "text": [
      "[7 8 9 6 4 9 2 8 9 5]\n",
      "[8 5 9 6 5 5 5 6 5 3]\n"
     ]
    },
    {
     "output_type": "execute_result",
     "data": {
      "text/plain": [
       "array([False, False,  True,  True, False, False, False, False, False,\n",
       "       False])"
      ]
     },
     "metadata": {},
     "execution_count": 27
    }
   ],
   "metadata": {}
  },
  {
   "cell_type": "code",
   "execution_count": 28,
   "source": [
    "def count_common(A,B):\n",
    "    return sum(A==B)\n",
    "\n",
    "def find_common(A,B):\n",
    "    indeces = [i for i, value in zip(range(len(A)), A==B) if value==True]\n",
    "    return (indeces, A[A==B])"
   ],
   "outputs": [],
   "metadata": {
    "slideshow": {
     "slide_type": "subslide"
    }
   }
  },
  {
   "cell_type": "code",
   "execution_count": 29,
   "source": [
    "print(find_common(A,B))\n",
    "print(count_common)"
   ],
   "outputs": [
    {
     "output_type": "stream",
     "name": "stdout",
     "text": [
      "([2, 3], array([9, 6]))\n",
      "<function count_common at 0x1213c2a60>\n"
     ]
    }
   ],
   "metadata": {}
  },
  {
   "cell_type": "markdown",
   "source": [
    "## Test question 1\n",
    "\n",
    "Your code should not raise any error."
   ],
   "metadata": {
    "slideshow": {
     "slide_type": "subslide"
    }
   }
  },
  {
   "cell_type": "code",
   "execution_count": 30,
   "source": [
    "A = np.arange(11)\n",
    "B = A[::-1].copy()\n",
    "print(A)\n",
    "print(B)\n",
    "out = count_common(A,B)\n",
    "\n",
    "assert out == 1, 'the function should return 1'\n",
    "\n",
    "out = find_common(A,B)\n",
    "assert len(out) == 2, 'the function should return two values'\n",
    "vals, ids = out\n",
    "assert np.all(vals == [5]), 'the function should return 5'\n",
    "assert np.all(ids == [5]), 'the function should return 5'"
   ],
   "outputs": [
    {
     "output_type": "stream",
     "name": "stdout",
     "text": [
      "[ 0  1  2  3  4  5  6  7  8  9 10]\n",
      "[10  9  8  7  6  5  4  3  2  1  0]\n"
     ]
    }
   ],
   "metadata": {
    "slideshow": {
     "slide_type": "skip"
    }
   }
  },
  {
   "cell_type": "markdown",
   "source": [
    "## Question 2\n",
    "\n",
    "Cerate a function `cutoff(A, lower, upper)` replace all values greater than `upper` with `upper` and those less than `lower` with `lower`."
   ],
   "metadata": {
    "slideshow": {
     "slide_type": "subslide"
    }
   }
  },
  {
   "cell_type": "code",
   "execution_count": 37,
   "source": [
    "A = np.random.randint(0,10,10)\n",
    "A[A>4] = -1\n",
    "A"
   ],
   "outputs": [
    {
     "output_type": "execute_result",
     "data": {
      "text/plain": [
       "array([-1,  4,  0,  2,  3,  3, -1, -1,  4, -1])"
      ]
     },
     "metadata": {},
     "execution_count": 37
    }
   ],
   "metadata": {}
  },
  {
   "cell_type": "code",
   "execution_count": 38,
   "source": [
    "def cutoff(A, lower, upper):\n",
    "    A[A>upper] = upper\n",
    "    A[A<lower] = lower\n",
    "    return A"
   ],
   "outputs": [],
   "metadata": {
    "slideshow": {
     "slide_type": "subslide"
    }
   }
  },
  {
   "cell_type": "markdown",
   "source": [
    "## Test question 2\n",
    "\n",
    "Your code should not raise any error."
   ],
   "metadata": {
    "slideshow": {
     "slide_type": "subslide"
    }
   }
  },
  {
   "cell_type": "code",
   "execution_count": 39,
   "source": [
    "A = np.arange(25).reshape(5, 5)\n",
    "print(A)\n",
    "B = cutoff(A, 5, 10)\n",
    "print(B)\n",
    "assert np.all(B[0] == [5]*5), 'the function should return a first row of 5s'\n",
    "assert np.all(B[-1] == [10]*5), 'the function should return a last row of 10s'"
   ],
   "outputs": [
    {
     "output_type": "stream",
     "name": "stdout",
     "text": [
      "[[ 0  1  2  3  4]\n",
      " [ 5  6  7  8  9]\n",
      " [10 11 12 13 14]\n",
      " [15 16 17 18 19]\n",
      " [20 21 22 23 24]]\n",
      "[[ 5  5  5  5  5]\n",
      " [ 5  6  7  8  9]\n",
      " [10 10 10 10 10]\n",
      " [10 10 10 10 10]\n",
      " [10 10 10 10 10]]\n"
     ]
    }
   ],
   "metadata": {
    "ExecuteTime": {
     "end_time": "2018-10-14T18:10:37.107966Z",
     "start_time": "2018-10-14T18:10:37.101816Z"
    },
    "slideshow": {
     "slide_type": "skip"
    }
   }
  },
  {
   "cell_type": "markdown",
   "source": [
    "## Question 3\n",
    "\n",
    "Create a function `rank(A)` that outputs the ranks of the values of the one dimensional input array `A`.\n",
    "\n",
    "```\n",
    "Ex:\n",
    "array:  [0.3 2.3 4.3 0.7 2.7 4.7]\n",
    "indeces: [0 3 1 4 2 5]\n",
    "ranks:  [0 2 4 1 3 5]\n",
    "which would be: [0.3 4.3 2.4 2.3 0.7 4.7]\n",
    "```"
   ],
   "metadata": {
    "slideshow": {
     "slide_type": "subslide"
    }
   }
  },
  {
   "cell_type": "code",
   "execution_count": 65,
   "source": [
    "def rank(A):\n",
    "    assert A.ndim == 1, \"The array needs to be one dimensional\"\n",
    "    indeces = np.argsort(A)\n",
    "    ranks = np.zeros_like(indeces)\n",
    "    for counter, index in zip(range(len(indeces)), indeces):\n",
    "        ranks[index] = counter\n",
    "    return ranks\n",
    "\n",
    "\n",
    "rank(np.random.randint(0,10,6))"
   ],
   "outputs": [
    {
     "output_type": "execute_result",
     "data": {
      "text/plain": [
       "array([1, 0, 2, 5, 3, 4])"
      ]
     },
     "metadata": {},
     "execution_count": 65
    }
   ],
   "metadata": {
    "slideshow": {
     "slide_type": "subslide"
    }
   }
  },
  {
   "cell_type": "markdown",
   "source": [
    "## Test question 3\n",
    "\n",
    "Your code should not raise any error."
   ],
   "metadata": {
    "slideshow": {
     "slide_type": "subslide"
    }
   }
  },
  {
   "cell_type": "code",
   "execution_count": 66,
   "source": [
    "A = np.arange(6)[::2]+0.3\n",
    "B = np.arange(1,6)[::2]-0.3\n",
    "C = np.hstack([A,B])\n",
    "print(C)\n",
    "out = rank(C)\n",
    "print(out)\n",
    "\n",
    "assert np.all(out == [0,2,4,1,3,5]), 'the function should return [0 2 4 1 3 5]'"
   ],
   "outputs": [
    {
     "output_type": "stream",
     "name": "stdout",
     "text": [
      "[0.3 2.3 4.3 0.7 2.7 4.7]\n",
      "[0 2 4 1 3 5]\n"
     ]
    }
   ],
   "metadata": {
    "ExecuteTime": {
     "end_time": "2018-10-14T18:10:37.107966Z",
     "start_time": "2018-10-14T18:10:37.101816Z"
    },
    "slideshow": {
     "slide_type": "skip"
    }
   }
  }
 ],
 "metadata": {
  "celltoolbar": "Slideshow",
  "kernelspec": {
   "name": "python3",
   "display_name": "Python 3.6.13 64-bit ('ITDSv1': conda)"
  },
  "language_info": {
   "codemirror_mode": {
    "name": "ipython",
    "version": 3
   },
   "file_extension": ".py",
   "mimetype": "text/x-python",
   "name": "python",
   "nbconvert_exporter": "python",
   "pygments_lexer": "ipython3",
   "version": "3.6.13"
  },
  "interpreter": {
   "hash": "60cf5e3586cfdf4ab0365dd25c5e543b3d161bdc078916f92d6d9a6fd803268f"
  }
 },
 "nbformat": 4,
 "nbformat_minor": 2
}