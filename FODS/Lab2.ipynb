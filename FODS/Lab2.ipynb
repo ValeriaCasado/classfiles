{
 "cells": [
  {
   "cell_type": "code",
   "execution_count": 1,
   "source": [
    "import numpy as np"
   ],
   "outputs": [],
   "metadata": {
    "ExecuteTime": {
     "end_time": "2018-10-14T18:10:36.914322Z",
     "start_time": "2018-10-14T18:10:36.911263Z"
    },
    "slideshow": {
     "slide_type": "skip"
    }
   }
  },
  {
   "cell_type": "markdown",
   "source": [
    "# Practice"
   ],
   "metadata": {
    "slideshow": {
     "slide_type": "slide"
    }
   }
  },
  {
   "cell_type": "markdown",
   "source": [
    "## Question 1\n",
    "\n",
    "Write a function `make_matrix(n_rows, n_cols)` that creates a `n_rows` x `n_cols` array with increasing entries starting from 1. The entries must be float numbers.\n",
    "\n",
    "Write two functions:`m_min` and `m_max` to extract the min and the max entry in the array. \n",
    "You can use the `max` and `min` function provided by core python.\n"
   ],
   "metadata": {
    "slideshow": {
     "slide_type": "subslide"
    }
   }
  },
  {
   "cell_type": "code",
   "execution_count": 38,
   "source": [
    "def make_matrix(n_rows, n_cols):\n",
    "    flat = np.arange(1,n_rows*n_cols+1, dtype=float)\n",
    "    return flat.reshape(n_rows,n_cols)\n"
   ],
   "outputs": [],
   "metadata": {}
  },
  {
   "cell_type": "code",
   "execution_count": 39,
   "source": [
    "def m_min(A):\n",
    "    return np.sort(np.ravel(A))[0]"
   ],
   "outputs": [],
   "metadata": {}
  },
  {
   "cell_type": "code",
   "execution_count": 40,
   "source": [
    "def m_max(A):\n",
    "    return np.sort(np.ravel(A))[::-1][0]"
   ],
   "outputs": [],
   "metadata": {}
  },
  {
   "cell_type": "code",
   "execution_count": 58,
   "source": [
    "X = make_matrix(2,3)\n",
    "m_max(test)"
   ],
   "outputs": [
    {
     "output_type": "execute_result",
     "data": {
      "text/plain": [
       "15"
      ]
     },
     "metadata": {},
     "execution_count": 58
    }
   ],
   "metadata": {}
  },
  {
   "cell_type": "markdown",
   "source": [
    "## Test question 1\n",
    "\n",
    "Your code should not raise any error."
   ],
   "metadata": {
    "slideshow": {
     "slide_type": "subslide"
    }
   }
  },
  {
   "cell_type": "code",
   "execution_count": 42,
   "source": [
    "A = make_matrix(n_rows=5, n_cols=5)\n",
    "print(A)\n",
    "print(m_min(A), m_max(A))\n",
    "\n",
    "assert A.dtype == 'float', 'Matrix must contain floats'\n",
    "\n",
    "assert A.shape == (5,5), 'Matrix should be 5x5'\n",
    "\n",
    "assert m_min(A) == 1, 'Min should be 1'\n",
    "\n",
    "assert m_max(A) == 25, 'Max should be 25'"
   ],
   "outputs": [
    {
     "output_type": "stream",
     "name": "stdout",
     "text": [
      "[[ 1.  2.  3.  4.  5.]\n",
      " [ 6.  7.  8.  9. 10.]\n",
      " [11. 12. 13. 14. 15.]\n",
      " [16. 17. 18. 19. 20.]\n",
      " [21. 22. 23. 24. 25.]]\n",
      "1.0 25.0\n"
     ]
    }
   ],
   "metadata": {
    "slideshow": {
     "slide_type": "skip"
    }
   }
  },
  {
   "cell_type": "markdown",
   "source": [
    "## Question 2\n",
    "\n",
    "Using the previous function `make_matrix` create a 5x5 matrix with entries 1 to 25. \n",
    "\n",
    "Using the max and the min function, write a function `scale(A)` to proportionally scale all array entries of an array `A` so that these are in the range $[0,1]$."
   ],
   "metadata": {
    "slideshow": {
     "slide_type": "subslide"
    }
   }
  },
  {
   "cell_type": "code",
   "execution_count": 80,
   "source": [
    "def normalise(value, lownew, highnew, low, high):\n",
    "    return (value - low)/(high-low)\n",
    "\n",
    "normalise(25, 0,1, 1,25)"
   ],
   "outputs": [
    {
     "output_type": "execute_result",
     "data": {
      "text/plain": [
       "1.0"
      ]
     },
     "metadata": {},
     "execution_count": 80
    }
   ],
   "metadata": {}
  },
  {
   "cell_type": "code",
   "execution_count": 85,
   "source": [
    "def scale(A):\n",
    "    nmin = m_min(A)\n",
    "    nmax = m_max(A)\n",
    "    processing = lambda x : normalise(x, 0, 1, 1, 25)\n",
    "    return processing(A)\n"
   ],
   "outputs": [],
   "metadata": {
    "slideshow": {
     "slide_type": "subslide"
    }
   }
  },
  {
   "cell_type": "code",
   "execution_count": 86,
   "source": [
    "X = make_matrix(1,25)[0]\n",
    "print(X)\n",
    "X_norm = scale(X)\n",
    "print(X_norm)"
   ],
   "outputs": [
    {
     "output_type": "stream",
     "name": "stdout",
     "text": [
      "[ 1.  2.  3.  4.  5.  6.  7.  8.  9. 10. 11. 12. 13. 14. 15. 16. 17. 18.\n",
      " 19. 20. 21. 22. 23. 24. 25.]\n",
      "[0.         0.04166667 0.08333333 0.125      0.16666667 0.20833333\n",
      " 0.25       0.29166667 0.33333333 0.375      0.41666667 0.45833333\n",
      " 0.5        0.54166667 0.58333333 0.625      0.66666667 0.70833333\n",
      " 0.75       0.79166667 0.83333333 0.875      0.91666667 0.95833333\n",
      " 1.        ]\n"
     ]
    }
   ],
   "metadata": {}
  },
  {
   "cell_type": "markdown",
   "source": [
    "## Test question 2\n",
    "\n",
    "Your code should not raise any error."
   ],
   "metadata": {
    "slideshow": {
     "slide_type": "subslide"
    }
   }
  },
  {
   "cell_type": "code",
   "execution_count": 87,
   "source": [
    "A = make_matrix(n_rows=5, n_cols=5)\n",
    "B = scale(A)\n",
    "print(B)\n",
    "\n",
    "assert B[0,0] == 0, 'B[0,0] should be 0'\n",
    "assert B[1,1] == 0.25, 'B[1,1] should be 0.25'\n",
    "assert B[4,4] == 1, 'B[4,4] should be 1'"
   ],
   "outputs": [
    {
     "output_type": "stream",
     "name": "stdout",
     "text": [
      "[[0.         0.04166667 0.08333333 0.125      0.16666667]\n",
      " [0.20833333 0.25       0.29166667 0.33333333 0.375     ]\n",
      " [0.41666667 0.45833333 0.5        0.54166667 0.58333333]\n",
      " [0.625      0.66666667 0.70833333 0.75       0.79166667]\n",
      " [0.83333333 0.875      0.91666667 0.95833333 1.        ]]\n"
     ]
    }
   ],
   "metadata": {
    "ExecuteTime": {
     "end_time": "2018-10-14T18:10:37.107966Z",
     "start_time": "2018-10-14T18:10:37.101816Z"
    },
    "slideshow": {
     "slide_type": "skip"
    }
   }
  },
  {
   "cell_type": "markdown",
   "source": [
    "## Question 3\n",
    "\n",
    "Write a function `transpose(X)` that for a two dimensional numpy array outputs its transposed. When `B` is the transposed of `A`, then `B[i,j]=A[j,i]`. \n",
    "\n",
    "In your function use the `assert` statement to ensure that the array in input is two dimensional.\n",
    "\n",
    "Write a function `transpose_square(X)` that for a square two dimensional numpy array outputs its transposed. This function must operate **in place** that is, it should not allocate any extra memory.\n",
    "\n",
    "In your function use the `assert` statement to ensure that the array in input is square."
   ],
   "metadata": {
    "slideshow": {
     "slide_type": "subslide"
    }
   }
  },
  {
   "cell_type": "code",
   "execution_count": 169,
   "source": [
    "def transpose(X):\n",
    "    flat = np.ravel(X)\n",
    "    t_transpose = np.zeros((X.shape[1], X.shape[0]))\n",
    "\n",
    "    for i in range(X.shape[0]):\n",
    "        for j in range(X.shape[1]):\n",
    "            t_transpose[j,i] = X[i,j]\n",
    "    return t_transpose\n",
    "    \n",
    "def transpose_square(X):\n",
    "    if X.shape[0] != X.shape[1]:\n",
    "        raise Exception()\n",
    "    for i in range(X.shape[0]):\n",
    "        for j in range(i+1,X.shape[1]):\n",
    "            temp = X[i][j] \n",
    "            X[i][j] = X[j][i]\n",
    "            X[j][i] = temp\n",
    "    return X\n",
    "    "
   ],
   "outputs": [],
   "metadata": {
    "slideshow": {
     "slide_type": "subslide"
    }
   }
  },
  {
   "cell_type": "code",
   "execution_count": 170,
   "source": [
    "X3 = make_matrix(4,4)\n",
    "print(X3)"
   ],
   "outputs": [
    {
     "output_type": "stream",
     "name": "stdout",
     "text": [
      "[[ 1.  2.  3.  4.]\n",
      " [ 5.  6.  7.  8.]\n",
      " [ 9. 10. 11. 12.]\n",
      " [13. 14. 15. 16.]]\n"
     ]
    }
   ],
   "metadata": {}
  },
  {
   "cell_type": "code",
   "execution_count": 171,
   "source": [
    "transpose(X3)"
   ],
   "outputs": [
    {
     "output_type": "execute_result",
     "data": {
      "text/plain": [
       "array([[ 1.,  5.,  9., 13.],\n",
       "       [ 2.,  6., 10., 14.],\n",
       "       [ 3.,  7., 11., 15.],\n",
       "       [ 4.,  8., 12., 16.]])"
      ]
     },
     "metadata": {},
     "execution_count": 171
    }
   ],
   "metadata": {}
  },
  {
   "cell_type": "code",
   "execution_count": 172,
   "source": [
    "transpose_square(X3)"
   ],
   "outputs": [
    {
     "output_type": "execute_result",
     "data": {
      "text/plain": [
       "array([[ 1.,  5.,  9., 13.],\n",
       "       [ 2.,  6., 10., 14.],\n",
       "       [ 3.,  7., 11., 15.],\n",
       "       [ 4.,  8., 12., 16.]])"
      ]
     },
     "metadata": {},
     "execution_count": 172
    }
   ],
   "metadata": {}
  },
  {
   "cell_type": "markdown",
   "source": [
    "## Test question 3\n",
    "\n",
    "Your code should not raise any error."
   ],
   "metadata": {
    "slideshow": {
     "slide_type": "subslide"
    }
   }
  },
  {
   "cell_type": "code",
   "execution_count": 173,
   "source": [
    "X = np.arange(12).reshape(-1, 3)\n",
    "print(X)\n",
    "print(transpose(X))\n",
    "assert np.all(transpose(X) == X.T), 'transpose(X) should yield the same result as X.T'\n",
    "\n",
    "X = np.arange(12).reshape(-1, 2, 3)\n",
    "try:\n",
    "    B = transpose(X)\n",
    "except Exception:\n",
    "    pass\n",
    "else:\n",
    "    assert False, 'the function should raise an exception if the input is not a two dim array'\n",
    "    \n",
    "X = np.arange(9).reshape(-1, 3)\n",
    "Xp = X.copy()\n",
    "assert np.all(transpose_square(X) == Xp.T), 'transpose(X) should yield the same result as copy_of(X).T'\n",
    "\n",
    "X = np.arange(12).reshape(-1, 3)\n",
    "try:\n",
    "    B = transpose_square(X)\n",
    "except Exception:\n",
    "    pass\n",
    "else:\n",
    "    assert False, 'the function should raise an exception if the input is not a square two dim array'"
   ],
   "outputs": [
    {
     "output_type": "stream",
     "name": "stdout",
     "text": [
      "[[ 0  1  2]\n",
      " [ 3  4  5]\n",
      " [ 6  7  8]\n",
      " [ 9 10 11]]\n",
      "[[ 0.  3.  6.  9.]\n",
      " [ 1.  4.  7. 10.]\n",
      " [ 2.  5.  8. 11.]]\n"
     ]
    }
   ],
   "metadata": {
    "slideshow": {
     "slide_type": "skip"
    }
   }
  },
  {
   "cell_type": "code",
   "execution_count": null,
   "source": [],
   "outputs": [],
   "metadata": {}
  }
 ],
 "metadata": {
  "celltoolbar": "Slideshow",
  "kernelspec": {
   "name": "python3",
   "display_name": "Python 3.6.13 64-bit ('LFDv1': conda)"
  },
  "language_info": {
   "codemirror_mode": {
    "name": "ipython",
    "version": 3
   },
   "file_extension": ".py",
   "mimetype": "text/x-python",
   "name": "python",
   "nbconvert_exporter": "python",
   "pygments_lexer": "ipython3",
   "version": "3.6.13"
  },
  "interpreter": {
   "hash": "f82c2f8ad3e9bfed506ff52db88ad465d99b2d6b7a9698ca7ae625303d87b884"
  }
 },
 "nbformat": 4,
 "nbformat_minor": 2
}