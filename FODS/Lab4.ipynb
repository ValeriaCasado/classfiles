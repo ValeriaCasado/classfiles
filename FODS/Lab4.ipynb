{
 "cells": [
  {
   "cell_type": "code",
   "execution_count": 1,
   "metadata": {
    "ExecuteTime": {
     "end_time": "2018-10-14T18:10:36.914322Z",
     "start_time": "2018-10-14T18:10:36.911263Z"
    },
    "slideshow": {
     "slide_type": "skip"
    }
   },
   "outputs": [],
   "source": [
    "import pandas as pd\n",
    "import numpy as np"
   ]
  },
  {
   "cell_type": "markdown",
   "metadata": {
    "slideshow": {
     "slide_type": "slide"
    }
   },
   "source": [
    "# Practice"
   ]
  },
  {
   "cell_type": "markdown",
   "metadata": {
    "slideshow": {
     "slide_type": "subslide"
    }
   },
   "source": [
    "## Question 1\n",
    "\n",
    "Create a pandas dataframe that contains the following columns:\n",
    "```\n",
    "name = ['Anastasia', 'Dima', 'Katherine', 'James', 'Emily', 'Michael', 'Matthew', 'Laura', 'Kevin', 'Jonas']\n",
    "score = [12.5, 9, 16.5, np.nan, 9, 20, 14.5, np.nan, 8, 19]\n",
    "attempts = [1, 3, 2, 3, 2, 3, 1, 1, 2, 1]\n",
    "qualify =  ['yes', 'no', 'yes', 'no', 'no', 'yes', 'yes', 'no', 'no', 'yes']\n",
    "```\n",
    "and has as index the characters `a,b,c,` etc.\n",
    "\n",
    "\n",
    "Write a function `print_cols(df)` that prints each column obtaining something like:\n",
    "```\n",
    "a    Anastasia\n",
    "b         Dima\n",
    "...\n",
    "j        Jonas\n",
    "Name: name, dtype: object\n",
    "________________________________________________________________________________\n",
    "a    12.5\n",
    "b     9.0\n",
    "...\n",
    "j    19.0\n",
    "Name: score, dtype: float64\n",
    "________________________________________________________________________________\n",
    "```"
   ]
  },
  {
   "cell_type": "code",
   "execution_count": 55,
   "metadata": {
    "slideshow": {
     "slide_type": "skip"
    }
   },
   "outputs": [],
   "source": [
    "# data \n",
    "\n",
    "name = ['Anastasia', 'Dima', 'Katherine', 'James', 'Emily', 'Michael', 'Matthew', 'Laura', 'Kevin', 'Jonas']\n",
    "score = [12.5, 9, 16.5, np.nan, 9, 20, 14.5, np.nan, 8, 19]\n",
    "attempts = [1, 3, 2, 3, 2, 3, 1, 1, 2, 1]\n",
    "qualify =  ['yes', 'no', 'yes', 'no', 'no', 'yes', 'yes', 'no', 'no', 'yes']\n",
    "\n",
    "df = pd.DataFrame([name, score, attempts, qualify], index=['name', 'score', 'attempts', 'qualify'], columns=list('abcdefghij'))\n",
    "df = df.T\n",
    "\n",
    "def print_cols(df):\n",
    "    for i in df.columns:\n",
    "        print(df[i])\n",
    "        print(80*\"-\")"
   ]
  },
  {
   "cell_type": "markdown",
   "metadata": {
    "slideshow": {
     "slide_type": "subslide"
    }
   },
   "source": [
    "## Test question 1\n",
    "\n",
    "Your code should not raise any error."
   ]
  },
  {
   "cell_type": "code",
   "execution_count": 56,
   "metadata": {
    "slideshow": {
     "slide_type": "skip"
    }
   },
   "outputs": [],
   "source": [
    "assert np.all(df.columns == ['name', 'score', 'attempts', 'qualify']), 'your DataFrame does not have the right columns'\n",
    "assert np.all(df.index == ['a', 'b', 'c', 'd', 'e', 'f', 'g', 'h', 'i', 'j']), 'your DataFrame does not have the right index'\n",
    "\n",
    "from contextlib import redirect_stdout\n",
    "def redirect(func):\n",
    "    def redirected_func(*args, **kw):\n",
    "        path = 'test.txt'\n",
    "        with open(path,'w') as out:\n",
    "            with redirect_stdout(out): \n",
    "                func(*args, **kw)\n",
    "        with open('test.txt') as f:\n",
    "            txt = [line.strip() for line in f]\n",
    "        return txt\n",
    "    return redirected_func\n",
    "r_print_cols = redirect(print_cols)\n",
    "txt = r_print_cols(df)\n",
    "\n",
    "assert txt[0] == 'a    Anastasia' and txt[10] == 'Name: name, dtype: object' and txt[-3] == 'j    yes', 'the print_cols did not print what was expected'"
   ]
  },
  {
   "cell_type": "markdown",
   "metadata": {
    "slideshow": {
     "slide_type": "subslide"
    }
   },
   "source": [
    "## Question 2\n",
    "\n",
    "Find what is the function in pandas to test the presence of a NaN entry in a Series or in a DataFrame.\n",
    "\n",
    "Write the function `has_nan(df, col_name)` that returns True if, in the dataframe `df`, the column with label `col_name` contains at least one entry that is a NaN.\n",
    "\n",
    "Write the function `get_columns_with_missing_values(df)` that returns the labels of those columns that contain missing or NaN values.  "
   ]
  },
  {
   "cell_type": "code",
   "execution_count": 28,
   "metadata": {},
   "outputs": [],
   "source": [
    "\n",
    "def has_nan(df, col_name):\n",
    "    return df[col_name].isnull().values.any()\n",
    "    \n",
    "def get_columns_with_missing_values(df):\n",
    "    labels = []\n",
    "\n",
    "    for i in range(len(df.columns)):\n",
    "        if has_nan(df, df.columns[i]):\n",
    "            labels.append(df.columns[i])\n",
    "    return labels"
   ]
  },
  {
   "cell_type": "markdown",
   "metadata": {
    "slideshow": {
     "slide_type": "subslide"
    }
   },
   "source": [
    "## Test question 2\n",
    "\n",
    "Your code should not raise any error."
   ]
  },
  {
   "cell_type": "code",
   "execution_count": 52,
   "metadata": {
    "ExecuteTime": {
     "end_time": "2018-10-14T18:10:37.107966Z",
     "start_time": "2018-10-14T18:10:37.101816Z"
    },
    "slideshow": {
     "slide_type": "skip"
    }
   },
   "outputs": [],
   "source": [
    "assert not has_nan(df, 'name') , 'when tested on this column the result shoud be False'\n",
    "assert has_nan(df, 'score') , 'when tested on this column the result shoud be True'\n",
    "assert get_columns_with_missing_values(df) == ['score'], 'Only \"score\" should be returned'"
   ]
  },
  {
   "cell_type": "markdown",
   "metadata": {
    "slideshow": {
     "slide_type": "subslide"
    }
   },
   "source": [
    "## Question 3\n",
    "\n",
    "Write a function `replace_missing(df)` that replaces the NaN values with the **median value** for the column. \n",
    "\n",
    "The functions should return a copy of the original dataframe and should not alter the dataframe in input."
   ]
  },
  {
   "cell_type": "code",
   "execution_count": 14,
   "metadata": {
    "slideshow": {
     "slide_type": "skip"
    }
   },
   "outputs": [],
   "source": [
    "def replace_missing(df):\n",
    "    # YOUR CODE HERE\n",
    "    raise NotImplementedError()"
   ]
  },
  {
   "cell_type": "markdown",
   "metadata": {
    "slideshow": {
     "slide_type": "subslide"
    }
   },
   "source": [
    "## Test question 3\n",
    "\n",
    "Your code should not raise any error."
   ]
  },
  {
   "cell_type": "code",
   "execution_count": 22,
   "metadata": {
    "slideshow": {
     "slide_type": "skip"
    }
   },
   "outputs": [],
   "source": [
    "df2 = replace_missing(df)\n",
    "assert df2 is not None and isinstance(df2, pd.DataFrame), 'the function replace_missing should return a dataframe'\n",
    "assert np.all(df2.loc[['d','h'],'score'].values == [14.5, 14.5]), \"the score for James and Laura should be 14.5\""
   ]
  },
  {
   "cell_type": "code",
   "execution_count": 23,
   "metadata": {
    "slideshow": {
     "slide_type": "skip"
    }
   },
   "outputs": [],
   "source": [
    "#efficiency test\n",
    "\n",
    "def replace_missing_slow(df):\n",
    "    df2 = df.copy()\n",
    "    missing_values_cols = get_columns_with_missing_values(df)\n",
    "    \n",
    "    for col in missing_values_cols:\n",
    "        s = df[col].copy()\n",
    "        # extract all non null values \n",
    "        vals = s[s.isna()==False].values\n",
    "\n",
    "        # find the median of the non null values\n",
    "        n = vals.shape[0]\n",
    "        median_index = int(n/2)\n",
    "        sorted_vals = np.sort(vals)\n",
    "        median_val = sorted_vals[median_index]\n",
    "        \n",
    "        # overwrite the NaNs with the median_val\n",
    "        # slow version\n",
    "        for i in s.index:\n",
    "            if pd.isna(s[i]):\n",
    "                s[i] = median_val\n",
    "        \n",
    "        #update the column in the dataframe\n",
    "        df2[col] = s\n",
    "\n",
    "    return df2\n",
    "\n",
    "from time import process_time_ns\n",
    "def decorate_runtime(func):\n",
    "    def timed_func(*args, **kw):\n",
    "        start = process_time_ns()\n",
    "        out = func(*args, **kw)\n",
    "        end = process_time_ns()\n",
    "        elapsed = end - start\n",
    "        return out, elapsed\n",
    "    return timed_func\n",
    "\n",
    "d = np.arange(1e6)\n",
    "d[d%2==0]=np.nan\n",
    "df3 = pd.DataFrame(d)\n",
    "\n",
    "t_replace_missing = decorate_runtime(replace_missing)\n",
    "df2, t_current = t_replace_missing(df3)\n",
    "\n",
    "t_replace_missing_slow = decorate_runtime(replace_missing_slow)\n",
    "df2, t_slow = t_replace_missing_slow(df3)\n",
    "assert t_current/t_slow < 0.01, 'Your code is not efficient, you should use vectorized operations'"
   ]
  }
 ],
 "metadata": {
  "celltoolbar": "Slideshow",
  "interpreter": {
   "hash": "60cf5e3586cfdf4ab0365dd25c5e543b3d161bdc078916f92d6d9a6fd803268f"
  },
  "kernelspec": {
   "display_name": "Python 3.6.13 64-bit ('ITDSv1': conda)",
   "name": "python3"
  },
  "language_info": {
   "codemirror_mode": {
    "name": "ipython",
    "version": 3
   },
   "file_extension": ".py",
   "mimetype": "text/x-python",
   "name": "python",
   "nbconvert_exporter": "python",
   "pygments_lexer": "ipython3",
   "version": "3.6.13"
  }
 },
 "nbformat": 4,
 "nbformat_minor": 2
}
